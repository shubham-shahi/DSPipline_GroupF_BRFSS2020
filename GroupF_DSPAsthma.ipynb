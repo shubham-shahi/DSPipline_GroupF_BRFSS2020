{
 "cells": [
  {
   "cell_type": "code",
   "execution_count": null,
   "metadata": {
    "colab": {
     "base_uri": "https://localhost:8080/"
    },
    "executionInfo": {
     "elapsed": 55884,
     "status": "ok",
     "timestamp": 1654366593942,
     "user": {
      "displayName": "Shubham Shahi",
      "userId": "03879382363725998877"
     },
     "user_tz": 300
    },
    "id": "3_T9W_dxDJaO",
    "outputId": "7c540ab2-90ca-4312-a426-b65776922a74"
   },
   "outputs": [
    {
     "name": "stdout",
     "output_type": "stream",
     "text": [
      "Mounted at /content/drive\n"
     ]
    }
   ],
   "source": [
    "import numpy as np\n",
    "import pandas as pd\n",
    "import matplotlib.pyplot as plt\n",
    "%matplotlib inline\n",
    "import seaborn as sns\n",
    "import sklearn\n",
    "from sklearn import metrics\n",
    "from sklearn.model_selection import train_test_split\n",
    "from sklearn.tree import DecisionTreeClassifier\n",
    "from sklearn.metrics import confusion_matrix\n",
    "\n",
    "from sklearn.ensemble import RandomForestClassifier\n",
    "from sklearn.metrics import precision_score\n",
    "from sklearn.metrics import recall_score\n",
    "from sklearn.metrics import f1_score\n",
    "from sklearn.decomposition import PCA\n",
    "from sklearn.model_selection import GridSearchCV\n",
    "\n",
    "\n",
    "from google.colab import drive\n",
    "drive.mount('/content/drive')\n",
    "\n",
    "df = pd.read_csv(\"/content/drive/MyDrive/DSS_Pipeline/brfss2020.csv\")"
   ]
  },
  {
   "cell_type": "code",
   "execution_count": null,
   "metadata": {
    "id": "Pbr9-9oY4AjG"
   },
   "outputs": [],
   "source": [
    "# exp1 - Asthma prediction with decision tree\n",
    "completely_empty = [feature for feature in df.columns if df[feature].isnull().sum() == df.shape[0]]\n",
    "\n",
    "exp1 = df.fillna(-1)\n",
    "exp1 = exp1.drop(columns=completely_empty)\n",
    "\n",
    "exp1[\"ASTHMA3\"] = exp1[\"ASTHMA3\"].apply(lambda x: 1 if x == 1 else 0)\n",
    "exp1 = exp1.drop(columns=['ASTHNOW', '_LTASTH1', '_ASTHMS1', '_CASTHM1'])\n",
    "x_train, x_test, y_train, y_test = train_test_split(exp1.drop(columns=[\"ASTHMA3\"]),\n",
    "                                                    exp1[\"ASTHMA3\"],\n",
    "                                                    test_size=0.2,\n",
    "                                                    random_state=42,\n",
    "                                                    stratify=exp1[\"ASTHMA3\"])"
   ]
  },
  {
   "cell_type": "code",
   "execution_count": null,
   "metadata": {
    "colab": {
     "base_uri": "https://localhost:8080/"
    },
    "executionInfo": {
     "elapsed": 10,
     "status": "ok",
     "timestamp": 1654366597556,
     "user": {
      "displayName": "Shubham Shahi",
      "userId": "03879382363725998877"
     },
     "user_tz": 300
    },
    "id": "ou2zpDuA18qJ",
    "outputId": "02ce45b7-17aa-4be2-f21e-f82f6c438cd5"
   },
   "outputs": [
    {
     "name": "stdout",
     "output_type": "stream",
     "text": [
      "(321566, 271) (80392, 271) (321566,) (80392,)\n",
      "(401958, 272)\n",
      "(401958, 279)\n"
     ]
    }
   ],
   "source": [
    "print(x_train.shape, x_test.shape, y_train.shape, y_test.shape)\n",
    "print(exp1.shape)\n",
    "print(df.shape)"
   ]
  },
  {
   "cell_type": "code",
   "execution_count": null,
   "metadata": {
    "colab": {
     "base_uri": "https://localhost:8080/"
    },
    "executionInfo": {
     "elapsed": 755165,
     "status": "ok",
     "timestamp": 1654367352716,
     "user": {
      "displayName": "Shubham Shahi",
      "userId": "03879382363725998877"
     },
     "user_tz": 300
    },
    "id": "AgwMX5yO2bEk",
    "outputId": "3eab1ca5-8e26-4c9d-a4de-7d7a48b15393"
   },
   "outputs": [
    {
     "name": "stdout",
     "output_type": "stream",
     "text": [
      "{'max_depth': 7}\n",
      "Accuracy on train data 0.6457243614063676\n",
      "Accuracy on test data 0.6443302816200617\n",
      "\n",
      "\t\t\tno asthma\tasthma\n",
      "class-wise accuracy for train [0.64677343 0.63898509]\n",
      "class-wise accuracy for test [0.64759071 0.62338382]\n",
      "\n",
      "precision train and test 0.2197232520660829 0.21589636974252358\n",
      "recall train and test 0.6389850856535993 0.6233838197266347\n",
      "f1 train and test 0.3270024870478565 0.32071840923669015\n",
      "\n"
     ]
    }
   ],
   "source": [
    "## exp1 - asthma prediction with decision tree\n",
    "\n",
    "#Gridcv on Decision Tree Classifier with to find best parameters for RECALL \n",
    "\n",
    "clf = DecisionTreeClassifier(random_state = 42, class_weight = \"balanced\")\n",
    "\n",
    "parameters = {\"max_depth\" : range(5,31,2)}\n",
    "grid_dtree = GridSearchCV(estimator=clf, param_grid = parameters,scoring =\"recall\", cv=3, n_jobs=1)\n",
    "\n",
    "x_train_grid = grid_dtree.fit(x_train, y_train)\n",
    "\n",
    "print(x_train_grid.best_params_)\n",
    "\n",
    "train_pred = x_train_grid.predict(x_train)\n",
    "test_pred = x_train_grid.predict(x_test)\n",
    "\n",
    "print(\"Accuracy on train data\", metrics.accuracy_score(y_train, train_pred))\n",
    "print(\"Accuracy on test data\", metrics.accuracy_score(y_test, test_pred))\n",
    "\n",
    "train_matrix = confusion_matrix(y_train, train_pred)\n",
    "test_matrix = confusion_matrix(y_test, test_pred)\n",
    "\n",
    "print()\n",
    "print(\"\\t\\t\\tno asthma\\tasthma\")\n",
    "print(\"class-wise accuracy for train\", train_matrix.diagonal()/train_matrix.sum(axis=1))\n",
    "print(\"class-wise accuracy for test\", test_matrix.diagonal()/test_matrix.sum(axis=1))\n",
    "\n",
    "precision_train = precision_score(y_train, train_pred)\n",
    "recall_train = recall_score(y_train, train_pred)\n",
    "f1_train = f1_score(y_train, train_pred)\n",
    "\n",
    "precision_test = precision_score(y_test, test_pred)\n",
    "recall_test = recall_score(y_test, test_pred)\n",
    "f1_test = f1_score(y_test, test_pred)\n",
    "\n",
    "print()\n",
    "print(\"precision train and test\", precision_train, precision_test)\n",
    "print(\"recall train and test\", recall_train, recall_test)\n",
    "print(\"f1 train and test\", f1_train, f1_test)\n",
    "\n",
    "print()"
   ]
  },
  {
   "cell_type": "code",
   "execution_count": null,
   "metadata": {
    "colab": {
     "base_uri": "https://localhost:8080/"
    },
    "executionInfo": {
     "elapsed": 735198,
     "status": "ok",
     "timestamp": 1654368087907,
     "user": {
      "displayName": "Shubham Shahi",
      "userId": "03879382363725998877"
     },
     "user_tz": 300
    },
    "id": "PQiAlH7jOTsD",
    "outputId": "e83a73c0-3745-4ffc-f499-aa929cd65e82"
   },
   "outputs": [
    {
     "name": "stdout",
     "output_type": "stream",
     "text": [
      "{'max_depth': 5}\n",
      "Accuracy on train data 0.7379667004596258\n",
      "Accuracy on test data 0.7404592496765847\n",
      "\n",
      "\t\t\tno asthma\tasthma\n",
      "class-wise accuracy for train [0.77599083 0.49369719]\n",
      "class-wise accuracy for test [0.7797999  0.48771703]\n",
      "\n",
      "precision train and test 0.25543809353162517 0.2563716685275984\n",
      "recall train and test 0.493697187976174 0.48771702992242333\n",
      "f1 train and test 0.3366790260491699 0.33608044038565565\n",
      "\n"
     ]
    }
   ],
   "source": [
    "#Gridcv on Decision Tree Classifier with to find best parameters for Precision \n",
    "\n",
    "clf = DecisionTreeClassifier(random_state = 42, class_weight = \"balanced\")\n",
    "parameters = {\"max_depth\" : range(5,31,2)}\n",
    "grid_dtree = GridSearchCV(estimator=clf, param_grid = parameters,scoring =\"precision\", cv=3, n_jobs=1)\n",
    "\n",
    "x_train_grid = grid_dtree.fit(x_train, y_train)\n",
    "\n",
    "print(x_train_grid.best_params_)\n",
    "\n",
    "train_pred = x_train_grid.predict(x_train)\n",
    "test_pred = x_train_grid.predict(x_test)\n",
    "\n",
    "print(\"Accuracy on train data\", metrics.accuracy_score(y_train, train_pred))\n",
    "print(\"Accuracy on test data\", metrics.accuracy_score(y_test, test_pred))\n",
    "\n",
    "train_matrix = confusion_matrix(y_train, train_pred)\n",
    "test_matrix = confusion_matrix(y_test, test_pred)\n",
    "\n",
    "print()\n",
    "print(\"\\t\\t\\tno asthma\\tasthma\")\n",
    "print(\"class-wise accuracy for train\", train_matrix.diagonal()/train_matrix.sum(axis=1))\n",
    "print(\"class-wise accuracy for test\", test_matrix.diagonal()/test_matrix.sum(axis=1))\n",
    "\n",
    "precision_train = precision_score(y_train, train_pred)\n",
    "recall_train = recall_score(y_train, train_pred)\n",
    "f1_train = f1_score(y_train, train_pred)\n",
    "\n",
    "precision_test = precision_score(y_test, test_pred)\n",
    "recall_test = recall_score(y_test, test_pred)\n",
    "f1_test = f1_score(y_test, test_pred)\n",
    "\n",
    "print()\n",
    "print(\"precision train and test\", precision_train, precision_test)\n",
    "print(\"recall train and test\", recall_train, recall_test)\n",
    "print(\"f1 train and test\", f1_train, f1_test)\n",
    "\n",
    "print()"
   ]
  },
  {
   "cell_type": "code",
   "execution_count": null,
   "metadata": {
    "colab": {
     "base_uri": "https://localhost:8080/"
    },
    "executionInfo": {
     "elapsed": 31906,
     "status": "ok",
     "timestamp": 1654368119793,
     "user": {
      "displayName": "Shubham Shahi",
      "userId": "03879382363725998877"
     },
     "user_tz": 300
    },
    "id": "uFSAtZ9Y3M7_",
    "outputId": "f9bcdd95-61e9-4cea-94fc-d5d717b8bce4"
   },
   "outputs": [
    {
     "name": "stdout",
     "output_type": "stream",
     "text": [
      "CHCCOPD2    0.165574\n",
      "ADDEPEV3    0.075588\n",
      "_AGE80      0.039296\n",
      "_BMI5       0.038150\n",
      "POORHLTH    0.037376\n",
      "_STSTR      0.018983\n",
      "IDATE       0.018974\n",
      "_LLCPWT     0.018558\n",
      "PNEUVAC4    0.017653\n",
      "_LLCPWT2    0.016538\n",
      "IDAY        0.016197\n",
      "GENHLTH     0.014498\n",
      "WEIGHT2     0.013047\n",
      "_WT2RAKE    0.012774\n",
      "HIVTSTD3    0.012742\n",
      "_RFPSA23    0.012015\n",
      "SEQNO       0.011651\n",
      "_STRWT      0.010394\n",
      "_DUALCOR    0.009978\n",
      "FLSHTMY3    0.009878\n",
      "SLEPTIM1    0.009741\n",
      "_PSU        0.009654\n",
      "WTKG3       0.009432\n",
      "PHYSHLTH    0.008377\n",
      "HEIGHT3     0.008340\n",
      "dtype: float64\n",
      "[[1.         0.        ]\n",
      " [0.64895589 0.35104411]\n",
      " [0.59479376 0.40520624]\n",
      " [0.48293368 0.51706632]\n",
      " [1.         0.        ]\n",
      " [0.45092602 0.54907398]\n",
      " [0.69104667 0.30895333]\n",
      " [0.54248087 0.45751913]\n",
      " [0.35797118 0.64202882]\n",
      " [0.3789057  0.6210943 ]\n",
      " [1.         0.        ]\n",
      " [0.75029961 0.24970039]\n",
      " [1.         0.        ]\n",
      " [0.43767254 0.56232746]\n",
      " [0.96581563 0.03418437]\n",
      " [0.21713908 0.78286092]\n",
      " [0.69540811 0.30459189]\n",
      " [0.73312148 0.26687852]\n",
      " [0.59696812 0.40303188]\n",
      " [0.79473946 0.20526054]\n",
      " [0.39809384 0.60190616]\n",
      " [0.39881117 0.60118883]\n",
      " [0.73312148 0.26687852]\n",
      " [0.59885264 0.40114736]\n",
      " [0.64499614 0.35500386]\n",
      " [0.59980539 0.40019461]\n",
      " [0.01532786 0.98467214]\n",
      " [0.59479376 0.40520624]\n",
      " [0.85960596 0.14039404]\n",
      " [0.57171204 0.42828796]\n",
      " [0.64895589 0.35104411]\n",
      " [0.21409174 0.78590826]\n",
      " [0.10062558 0.89937442]\n",
      " [1.         0.        ]\n",
      " [0.20188677 0.79811323]\n",
      " [0.29197263 0.70802737]\n",
      " [0.20925482 0.79074518]\n",
      " [0.56414153 0.43585847]\n",
      " [0.26691429 0.73308571]\n",
      " [0.19229472 0.80770528]\n",
      " [0.23443543 0.76556457]\n",
      " [0.79473946 0.20526054]\n",
      " [0.824413   0.175587  ]\n",
      " [0.73285866 0.26714134]\n",
      " [0.587617   0.412383  ]\n",
      " [0.18685348 0.81314652]\n",
      " [0.86896097 0.13103903]\n",
      " [0.68695071 0.31304929]\n",
      " [0.79907497 0.20092503]\n",
      " [0.77602167 0.22397833]]\n"
     ]
    }
   ],
   "source": [
    "clf = DecisionTreeClassifier(max_depth=15, random_state = 42, class_weight = \"balanced\")\n",
    "clf.fit(x_train, y_train)\n",
    "\n",
    "test_pred = clf.predict(x_test)\n",
    "\n",
    "importances = clf.feature_importances_\n",
    "\n",
    "feature_importances = pd.Series(importances, index=x_train.columns)\n",
    "\n",
    "print(feature_importances.sort_values(ascending=False)[:25])\n",
    "\n",
    "predictions_percentage = clf.predict_proba(x_test)\n",
    "\n",
    "print(predictions_percentage[:50])"
   ]
  },
  {
   "cell_type": "code",
   "execution_count": null,
   "metadata": {
    "colab": {
     "base_uri": "https://localhost:8080/"
    },
    "executionInfo": {
     "elapsed": 61516,
     "status": "ok",
     "timestamp": 1654368181289,
     "user": {
      "displayName": "Shubham Shahi",
      "userId": "03879382363725998877"
     },
     "user_tz": 300
    },
    "id": "Irup4f-7wzYZ",
    "outputId": "732b8986-4137-4ace-b6e7-25638bfdd820"
   },
   "outputs": [
    {
     "name": "stderr",
     "output_type": "stream",
     "text": [
      "/usr/local/lib/python3.7/dist-packages/sklearn/neural_network/_multilayer_perceptron.py:696: ConvergenceWarning: Stochastic Optimizer: Maximum iterations (40) reached and the optimization hasn't converged yet.\n",
      "  ConvergenceWarning,\n",
      "/usr/local/lib/python3.7/dist-packages/sklearn/neural_network/_multilayer_perceptron.py:696: ConvergenceWarning: Stochastic Optimizer: Maximum iterations (40) reached and the optimization hasn't converged yet.\n",
      "  ConvergenceWarning,\n",
      "/usr/local/lib/python3.7/dist-packages/sklearn/neural_network/_multilayer_perceptron.py:696: ConvergenceWarning: Stochastic Optimizer: Maximum iterations (40) reached and the optimization hasn't converged yet.\n",
      "  ConvergenceWarning,\n",
      "/usr/local/lib/python3.7/dist-packages/sklearn/neural_network/_multilayer_perceptron.py:696: ConvergenceWarning: Stochastic Optimizer: Maximum iterations (40) reached and the optimization hasn't converged yet.\n",
      "  ConvergenceWarning,\n"
     ]
    },
    {
     "name": "stdout",
     "output_type": "stream",
     "text": [
      "{'hidden_layer_sizes': (7,), 'max_iter': 40}\n",
      "Accuracy on train data 0.7295725554944047\n",
      "Accuracy on test data 0.8044830331376256\n",
      "\n",
      "\t\t\tno asthma\tasthma\n",
      "class-wise accuracy for train [0.90698954 0.37473858]\n",
      "class-wise accuracy for test [0.86863895 0.39231622]\n",
      "\n",
      "precision train and test 0.668269702620473 0.31734648139847604\n",
      "recall train and test 0.3747385800770501 0.3923162172146287\n",
      "f1 train and test 0.48020028914982893 0.3508713967126456\n"
     ]
    }
   ],
   "source": [
    "# exp2 - asthma prediction with mlp\n",
    "#Recall\n",
    "\n",
    "from sklearn.neural_network import MLPClassifier\n",
    "from sklearn.preprocessing import StandardScaler\n",
    "from sklearn.pipeline import Pipeline\n",
    "sc = StandardScaler()\n",
    "\n",
    "x_train_small = pd.concat([x_train[y_train == 0].sample(2*18170), x_train[y_train == 1].sample(18170)])\n",
    "y_train_small = [0]*2*18170 + [1]*18170\n",
    "\n",
    "\n",
    "x_train_scale = sc.fit_transform(x_train_small)\n",
    "x_test_scale = sc.fit_transform(x_test)\n",
    "\n",
    "mlp_clf = MLPClassifier(random_state=42)\n",
    "\n",
    "\n",
    "parameters = {\"hidden_layer_sizes\": [(7,)],\"max_iter\":[40] }\n",
    "\n",
    "grid_mlp = GridSearchCV(estimator=mlp_clf, param_grid = parameters, scoring=\"recall\",cv=3, n_jobs=1)\n",
    "\n",
    "x_train_grid = grid_mlp.fit(x_train_scale,y_train_small)\n",
    "\n",
    "print(x_train_grid.best_params_)\n",
    "\n",
    "train_pred = x_train_grid.predict(x_train_scale)\n",
    "test_pred = x_train_grid.predict(x_test_scale)\n",
    "\n",
    "print(\"Accuracy on train data\", metrics.accuracy_score(y_train_small, train_pred))\n",
    "print(\"Accuracy on test data\", metrics.accuracy_score(y_test, test_pred))\n",
    "\n",
    "train_matrix = confusion_matrix(y_train_small, train_pred)\n",
    "test_matrix = confusion_matrix(y_test, test_pred)\n",
    "\n",
    "print()\n",
    "print(\"\\t\\t\\tno asthma\\tasthma\")\n",
    "print(\"class-wise accuracy for train\", train_matrix.diagonal()/train_matrix.sum(axis=1))\n",
    "print(\"class-wise accuracy for test\", test_matrix.diagonal()/test_matrix.sum(axis=1))\n",
    "\n",
    "precision_train = precision_score(y_train_small, train_pred)\n",
    "recall_train = recall_score(y_train_small, train_pred)\n",
    "f1_train = f1_score(y_train_small, train_pred)\n",
    "\n",
    "precision_test = precision_score(y_test, test_pred)\n",
    "recall_test = recall_score(y_test, test_pred)\n",
    "f1_test = f1_score(y_test, test_pred)\n",
    "\n",
    "print()\n",
    "print(\"precision train and test\", precision_train, precision_test)\n",
    "print(\"recall train and test\", recall_train, recall_test)\n",
    "print(\"f1 train and test\", f1_train, f1_test)\n"
   ]
  },
  {
   "cell_type": "code",
   "execution_count": null,
   "metadata": {
    "colab": {
     "base_uri": "https://localhost:8080/"
    },
    "executionInfo": {
     "elapsed": 49642,
     "status": "ok",
     "timestamp": 1654368230926,
     "user": {
      "displayName": "Shubham Shahi",
      "userId": "03879382363725998877"
     },
     "user_tz": 300
    },
    "id": "S9-XnTW0Oj0R",
    "outputId": "6f950cc4-b9b5-4c53-bbb4-b50e81e93030"
   },
   "outputs": [
    {
     "name": "stderr",
     "output_type": "stream",
     "text": [
      "/usr/local/lib/python3.7/dist-packages/sklearn/neural_network/_multilayer_perceptron.py:696: ConvergenceWarning: Stochastic Optimizer: Maximum iterations (40) reached and the optimization hasn't converged yet.\n",
      "  ConvergenceWarning,\n",
      "/usr/local/lib/python3.7/dist-packages/sklearn/neural_network/_multilayer_perceptron.py:696: ConvergenceWarning: Stochastic Optimizer: Maximum iterations (40) reached and the optimization hasn't converged yet.\n",
      "  ConvergenceWarning,\n",
      "/usr/local/lib/python3.7/dist-packages/sklearn/neural_network/_multilayer_perceptron.py:696: ConvergenceWarning: Stochastic Optimizer: Maximum iterations (40) reached and the optimization hasn't converged yet.\n",
      "  ConvergenceWarning,\n",
      "/usr/local/lib/python3.7/dist-packages/sklearn/neural_network/_multilayer_perceptron.py:696: ConvergenceWarning: Stochastic Optimizer: Maximum iterations (40) reached and the optimization hasn't converged yet.\n",
      "  ConvergenceWarning,\n"
     ]
    },
    {
     "name": "stdout",
     "output_type": "stream",
     "text": [
      "{'hidden_layer_sizes': (7,), 'max_iter': 40}\n",
      "Accuracy on train data 0.7272610530177949\n",
      "Accuracy on test data 0.8063364513881979\n",
      "\n",
      "\t\t\tno asthma\tasthma\n",
      "class-wise accuracy for train [0.90855806 0.36466703]\n",
      "class-wise accuracy for test [0.87254902 0.38095678]\n",
      "\n",
      "precision train and test 0.6659965825711127 0.31752751905165116\n",
      "recall train and test 0.3646670335718217 0.3809567787218323\n",
      "f1 train and test 0.47128276254489854 0.3463621478651497\n"
     ]
    }
   ],
   "source": [
    "# exp2 - asthma prediction with mlp\n",
    "#precision\n",
    "\n",
    "from sklearn.neural_network import MLPClassifier\n",
    "from sklearn.preprocessing import StandardScaler\n",
    "from sklearn.pipeline import Pipeline\n",
    "sc = StandardScaler()\n",
    "\n",
    "x_train_small = pd.concat([x_train[y_train == 0].sample(2*18170), x_train[y_train == 1].sample(18170)])\n",
    "y_train_small = [0]*2*18170 + [1]*18170\n",
    "\n",
    "\n",
    "x_train_scale = sc.fit_transform(x_train_small)\n",
    "x_test_scale = sc.fit_transform(x_test)\n",
    "\n",
    "mlp_clf = MLPClassifier(random_state=42)\n",
    "\n",
    "\n",
    "parameters = {\"hidden_layer_sizes\": [(7,)],\"max_iter\":[40] }\n",
    "\n",
    "grid_mlp = GridSearchCV(estimator=mlp_clf, param_grid = parameters, scoring=\"precision\",cv=3, n_jobs=1)\n",
    "\n",
    "x_train_grid = grid_mlp.fit(x_train_scale,y_train_small)\n",
    "\n",
    "print(x_train_grid.best_params_)\n",
    "\n",
    "train_pred = x_train_grid.predict(x_train_scale)\n",
    "test_pred = x_train_grid.predict(x_test_scale)\n",
    "\n",
    "\n",
    "print(\"Accuracy on train data\", metrics.accuracy_score(y_train_small, train_pred))\n",
    "print(\"Accuracy on test data\", metrics.accuracy_score(y_test, test_pred))\n",
    "\n",
    "train_matrix = confusion_matrix(y_train_small, train_pred)\n",
    "test_matrix = confusion_matrix(y_test, test_pred)\n",
    "\n",
    "print()\n",
    "print(\"\\t\\t\\tno asthma\\tasthma\")\n",
    "print(\"class-wise accuracy for train\", train_matrix.diagonal()/train_matrix.sum(axis=1))\n",
    "print(\"class-wise accuracy for test\", test_matrix.diagonal()/test_matrix.sum(axis=1))\n",
    "\n",
    "precision_train = precision_score(y_train_small, train_pred)\n",
    "recall_train = recall_score(y_train_small, train_pred)\n",
    "f1_train = f1_score(y_train_small, train_pred)\n",
    "\n",
    "precision_test = precision_score(y_test, test_pred)\n",
    "recall_test = recall_score(y_test, test_pred)\n",
    "f1_test = f1_score(y_test, test_pred)\n",
    "\n",
    "print()\n",
    "print(\"precision train and test\", precision_train, precision_test)\n",
    "print(\"recall train and test\", recall_train, recall_test)\n",
    "print(\"f1 train and test\", f1_train, f1_test)"
   ]
  },
  {
   "cell_type": "code",
   "execution_count": null,
   "metadata": {
    "colab": {
     "background_save": true
    },
    "id": "pId5oZVy1iV_",
    "outputId": "2cfd87a2-a010-425d-d05f-92a70e9b2fd3"
   },
   "outputs": [
    {
     "name": "stdout",
     "output_type": "stream",
     "text": [
      "{'max_depth': 10}\n",
      "Accuracy on train data 0.717728242413688\n",
      "Accuracy on test data 0.7062269877599762\n",
      "\n",
      "\t\t\tno asthma\tasthma\n",
      "class-wise accuracy for train [0.73143769 0.62965785]\n",
      "class-wise accuracy for test [0.72679834 0.57406723]\n",
      "\n",
      "precision train and test 0.2673797315712591 0.24646128226477934\n",
      "recall train and test 0.629657847347278 0.574067233099372\n",
      "f1 train and test 0.37536386470770394 0.344863935199312\n",
      "\n"
     ]
    }
   ],
   "source": [
    "# exp3 - asthma prediction using ensemble - random forest\n",
    "\n",
    "\n",
    "rf_clf = RandomForestClassifier(random_state = 42, class_weight = \"balanced\")\n",
    "    \n",
    "parameters = {\"max_depth\": range(10,35,2 )}\n",
    "grid_rf = GridSearchCV(estimator=rf_clf, param_grid = parameters, scoring= \"recall\", cv=3, n_jobs=1)\n",
    "\n",
    "x_train_grid = grid_rf.fit(x_train,y_train)\n",
    "\n",
    "print(x_train_grid.best_params_)\n",
    "\n",
    "train_pred = x_train_grid.predict(x_train)\n",
    "test_pred = x_train_grid.predict(x_test)\n",
    "\n",
    "print(\"Accuracy on train data\", metrics.accuracy_score(y_train, train_pred))\n",
    "print(\"Accuracy on test data\", metrics.accuracy_score(y_test, test_pred))\n",
    "\n",
    "train_matrix = confusion_matrix(y_train, train_pred)\n",
    "test_matrix = confusion_matrix(y_test, test_pred)\n",
    "\n",
    "print()\n",
    "print(\"\\t\\t\\tno asthma\\tasthma\")\n",
    "print(\"class-wise accuracy for train\", train_matrix.diagonal()/train_matrix.sum(axis=1))\n",
    "print(\"class-wise accuracy for test\", test_matrix.diagonal()/test_matrix.sum(axis=1))\n",
    "\n",
    "precision_train = precision_score(y_train, train_pred)\n",
    "recall_train = recall_score(y_train, train_pred)\n",
    "f1_train = f1_score(y_train, train_pred)\n",
    "\n",
    "precision_test = precision_score(y_test, test_pred)\n",
    "recall_test = recall_score(y_test, test_pred)\n",
    "f1_test = f1_score(y_test, test_pred)\n",
    "\n",
    "print()\n",
    "print(\"precision train and test\", precision_train, precision_test)\n",
    "print(\"recall train and test\", recall_train, recall_test)\n",
    "print(\"f1 train and test\", f1_train, f1_test)\n",
    "\n",
    "print()"
   ]
  },
  {
   "cell_type": "code",
   "execution_count": null,
   "metadata": {
    "colab": {
     "background_save": true
    },
    "id": "RkuLBusdOv4w",
    "outputId": "9ac38300-8bf3-434c-f608-5639eb0950e6"
   },
   "outputs": [
    {
     "name": "stdout",
     "output_type": "stream",
     "text": [
      "{'max_depth': 34}\n",
      "Accuracy on train data 0.9999689021849325\n",
      "Accuracy on test data 0.8667529107373868\n",
      "\n",
      "\t\t\tno asthma\tasthma\n",
      "class-wise accuracy for train [1.         0.99976913]\n",
      "class-wise accuracy for test [0.99712495 0.0291836 ]\n",
      "\n",
      "precision train and test 1.0 0.6124031007751938\n",
      "recall train and test 0.9997691277646951 0.029183598079054303\n",
      "f1 train and test 0.9998845505553119 0.055712270803949214\n",
      "\n"
     ]
    }
   ],
   "source": [
    "# exp3 - asthma prediction using ensemble - random forest\n",
    "\n",
    "#precision\n",
    "rf_clf = RandomForestClassifier(random_state = 42, class_weight = \"balanced\")\n",
    "    \n",
    "parameters = {\"max_depth\": range(10,35,2 )}\n",
    "grid_rf = GridSearchCV(estimator=rf_clf, param_grid = parameters, scoring= \"precision\", cv=3, n_jobs=1)\n",
    "\n",
    "x_train_grid = grid_rf.fit(x_train,y_train)\n",
    "\n",
    "print(x_train_grid.best_params_)\n",
    "\n",
    "train_pred = x_train_grid.predict(x_train)\n",
    "test_pred = x_train_grid.predict(x_test)\n",
    "\n",
    "print(\"Accuracy on train data\", metrics.accuracy_score(y_train, train_pred))\n",
    "print(\"Accuracy on test data\", metrics.accuracy_score(y_test, test_pred))\n",
    "\n",
    "train_matrix = confusion_matrix(y_train, train_pred)\n",
    "test_matrix = confusion_matrix(y_test, test_pred)\n",
    "\n",
    "print()\n",
    "print(\"\\t\\t\\tno asthma\\tasthma\")\n",
    "print(\"class-wise accuracy for train\", train_matrix.diagonal()/train_matrix.sum(axis=1))\n",
    "print(\"class-wise accuracy for test\", test_matrix.diagonal()/test_matrix.sum(axis=1))\n",
    "\n",
    "precision_train = precision_score(y_train, train_pred)\n",
    "recall_train = recall_score(y_train, train_pred)\n",
    "f1_train = f1_score(y_train, train_pred)\n",
    "\n",
    "precision_test = precision_score(y_test, test_pred)\n",
    "recall_test = recall_score(y_test, test_pred)\n",
    "f1_test = f1_score(y_test, test_pred)\n",
    "\n",
    "print()\n",
    "print(\"precision train and test\", precision_train, precision_test)\n",
    "print(\"recall train and test\", recall_train, recall_test)\n",
    "print(\"f1 train and test\", f1_train, f1_test)\n",
    "\n",
    "print()"
   ]
  },
  {
   "cell_type": "code",
   "execution_count": null,
   "metadata": {
    "id": "hv7PYf9e3bSs"
   },
   "outputs": [],
   "source": [
    "\n"
   ]
  },
  {
   "cell_type": "code",
   "execution_count": null,
   "metadata": {
    "id": "vjk7b7KlND9B",
    "colab": {
     "base_uri": "https://localhost:8080/"
    },
    "executionInfo": {
     "status": "ok",
     "timestamp": 1654392838444,
     "user_tz": 300,
     "elapsed": 153978,
     "user": {
      "displayName": "Shubham Shahi",
      "userId": "03879382363725998877"
     }
    },
    "outputId": "5af41e9b-7428-4a93-fbca-730f1987fe91"
   },
   "outputs": [
    {
     "output_type": "stream",
     "name": "stderr",
     "text": [
      "/usr/local/lib/python3.7/dist-packages/sklearn/neural_network/_multilayer_perceptron.py:696: ConvergenceWarning: Stochastic Optimizer: Maximum iterations (40) reached and the optimization hasn't converged yet.\n",
      "  ConvergenceWarning,\n"
     ]
    },
    {
     "output_type": "stream",
     "name": "stdout",
     "text": [
      "Accuracy on train data 0.774105471349583\n",
      "Accuracy on test data 0.7711836998706338\n",
      "\n",
      "\t\t\tno asthma\t asthma\n",
      "class-wise accuracy for train [0.81608398 0.50443275]\n",
      "class-wise accuracy for test [0.81595365 0.48356114]\n",
      "\n",
      "\n",
      "precision train and test 0.29920300175284836 0.29025999223903765\n",
      "recall train and test 0.5044327469178557 0.4835611377909125\n",
      "f1 train and test 0.3756124396156028 0.36276717358921956\n",
      "\n"
     ]
    }
   ],
   "source": [
    "clf = DecisionTreeClassifier(max_depth=5, random_state = 42, class_weight = \"balanced\")\n",
    "clf.fit(x_train,y_train)\n",
    "dtree_train_pred = clf.predict_proba(x_train)\n",
    "dtree_test_pred = clf.predict_proba(x_test)\n",
    "\n",
    "mlp_clf = MLPClassifier(hidden_layer_sizes =(7,) , max_iter = 40 ,random_state=42)\n",
    "mlp_clf.fit(x_train_scale, y_train_small)\n",
    "mlp_train_pred = mlp_clf.predict_proba(sc.fit_transform(x_train))\n",
    "mlp_test_pred = mlp_clf.predict_proba(sc.fit_transform(x_test))\n",
    "\n",
    "rf_clf = RandomForestClassifier(max_depth=10, random_state = 42, class_weight = \"balanced\")\n",
    "rf_clf.fit(x_train, y_train)\n",
    "rf_train_pred = rf_clf.predict_proba(x_train)\n",
    "rf_test_pred = rf_clf.predict_proba(x_test)\n",
    "\n",
    "\n",
    "final_pred_train = []\n",
    "final_pred_test = []\n",
    "\n",
    "for i in range(len(dtree_train_pred)):\n",
    "    val = (dtree_train_pred[i][0] + mlp_train_pred[i][0] + rf_train_pred[i][0])/3\n",
    "    if val <= 0.5:\n",
    "        final_pred_train.append(1)\n",
    "    else:\n",
    "        final_pred_train.append(0)\n",
    "\n",
    "for i in range(len(dtree_test_pred)):\n",
    "    val = (dtree_test_pred[i][0] + mlp_test_pred[i][0] + rf_test_pred[i][0])/3\n",
    "    if val <= 0.5:\n",
    "        final_pred_test.append(1)\n",
    "    else:\n",
    "        final_pred_test.append(0)\n",
    "\n",
    "print(\"Accuracy on train data\", metrics.accuracy_score(y_train, final_pred_train))\n",
    "print(\"Accuracy on test data\", metrics.accuracy_score(y_test, final_pred_test))\n",
    "\n",
    "train_matrix = confusion_matrix(y_train, final_pred_train)\n",
    "test_matrix = confusion_matrix(y_test, final_pred_test)\n",
    "\n",
    "print()\n",
    "print(\"\\t\\t\\tno asthma\\t asthma\")\n",
    "print(\"class-wise accuracy for train\", train_matrix.diagonal()/train_matrix.sum(axis=1))\n",
    "print(\"class-wise accuracy for test\", test_matrix.diagonal()/test_matrix.sum(axis=1))\n",
    "\n",
    "print()\n",
    "\n",
    "precision_train = precision_score(y_train, final_pred_train)\n",
    "recall_train = recall_score(y_train, final_pred_train)\n",
    "f1_train = f1_score(y_train, final_pred_train)\n",
    "\n",
    "precision_test = precision_score(y_test, final_pred_test)\n",
    "recall_test = recall_score(y_test, final_pred_test)\n",
    "f1_test = f1_score(y_test, final_pred_test)\n",
    "\n",
    "print()\n",
    "print(\"precision train and test\", precision_train, precision_test)\n",
    "print(\"recall train and test\", recall_train, recall_test)\n",
    "print(\"f1 train and test\", f1_train, f1_test)\n",
    "\n",
    "print()"
   ]
  },
  {
   "cell_type": "code",
   "execution_count": null,
   "metadata": {
    "id": "qwL9RbE1OL7D"
   },
   "outputs": [],
   "source": [
    ""
   ]
  },
  {
   "cell_type": "code",
   "execution_count": null,
   "metadata": {
    "id": "IZrrPZw7yo5b"
   },
   "outputs": [],
   "source": [
    ""
   ]
  },
  {
   "cell_type": "code",
   "execution_count": null,
   "metadata": {
    "id": "d10zT7-jyo0L"
   },
   "outputs": [],
   "source": [
    ""
   ]
  },
  {
   "cell_type": "code",
   "execution_count": null,
   "metadata": {
    "id": "D9STzrVxyorp"
   },
   "outputs": [],
   "source": [
    "#Experimenting with PCA"
   ]
  },
  {
   "cell_type": "code",
   "execution_count": null,
   "metadata": {
    "colab": {
     "background_save": true,
     "base_uri": "https://localhost:8080/"
    },
    "id": "RQ7WI8T-ypTY",
    "outputId": "8bfefb4f-816b-4f6b-b3f8-b1e1c8bc23c3"
   },
   "outputs": [
    {
     "name": "stdout",
     "output_type": "stream",
     "text": [
      "max-depth 5\n",
      "Accuracy on train data 0.643056168873575\n",
      "Accuracy on test data 0.6388446611603145\n",
      "\n",
      "\t\t\tno asthma\tasthma\n",
      "class-wise accuracy for train [0.6590321  0.54042573]\n",
      "class-wise accuracy for test [0.66166408 0.49224233]\n",
      "\n",
      "precision train and test 0.19789826095043245 0.18464629668121665\n",
      "recall train and test 0.5404257284019024 0.49224233468784634\n",
      "f1 train and test 0.2897083485460745 0.2685544414773014\n",
      "max-depth 7\n",
      "Accuracy on train data 0.610726880329388\n",
      "Accuracy on test data 0.6005945865260225\n",
      "\n",
      "\t\t\tno asthma\tasthma\n",
      "class-wise accuracy for train [0.61142058 0.60627049]\n",
      "class-wise accuracy for test [0.61173883 0.52899889]\n",
      "\n",
      "precision train and test 0.19541162200575965 0.17497021718544767\n",
      "recall train and test 0.6062704899108833 0.5289988917620982\n",
      "f1 train and test 0.2955592947545541 0.2629633880408585\n",
      "max-depth 9\n",
      "Accuracy on train data 0.6167816249230329\n",
      "Accuracy on test data 0.5781296646432481\n",
      "\n",
      "\t\t\tno asthma\tasthma\n",
      "class-wise accuracy for train [0.6124664  0.64450293]\n",
      "class-wise accuracy for test [0.57935139 0.57028075]\n",
      "\n",
      "precision train and test 0.20564575537024488 0.1742528995118097\n",
      "recall train and test 0.6445029320773884 0.5702807536017732\n",
      "f1 train and test 0.31180261585372665 0.2669404517453799\n",
      "max-depth 11\n",
      "Accuracy on train data 0.6392466865278046\n",
      "Accuracy on test data 0.5956065280127376\n",
      "\n",
      "\t\t\tno asthma\tasthma\n",
      "class-wise accuracy for train [0.63174748 0.68742208]\n",
      "class-wise accuracy for test [0.60688    0.52318064]\n",
      "\n",
      "precision train and test 0.22515539692382147 0.1716042651157155\n",
      "recall train and test 0.6874220806205845 0.523180642777983\n",
      "f1 train and test 0.3392080020050582 0.25843978102189785\n",
      "max-depth 13\n",
      "Accuracy on train data 0.6661929432838049\n",
      "Accuracy on test data 0.605172156433476\n",
      "\n",
      "\t\t\tno asthma\tasthma\n",
      "class-wise accuracy for train [0.65272487 0.75271275]\n",
      "class-wise accuracy for test [0.62368466 0.48623938]\n",
      "\n",
      "precision train and test 0.25228076420109413 0.1674458544032058\n",
      "recall train and test 0.7527127487648335 0.48623937938677503\n",
      "f1 train and test 0.3779028322717868 0.24910695275720948\n",
      "max-depth 15\n",
      "Accuracy on train data 0.703295746440855\n",
      "Accuracy on test data 0.605172156433476\n",
      "\n",
      "\t\t\tno asthma\tasthma\n",
      "class-wise accuracy for train [0.6826402  0.83598836]\n",
      "class-wise accuracy for test [0.63055603 0.44209457]\n",
      "\n",
      "precision train and test 0.290806000835234 0.1570177452684751\n",
      "recall train and test 0.8359883640393406 0.4420945696342815\n",
      "f1 train and test 0.43150807364595123 0.23173181653152608\n",
      "max-depth 17\n",
      "Accuracy on train data 0.7571011860706667\n",
      "Accuracy on test data 0.6381729525325903\n",
      "\n",
      "\t\t\tno asthma\tasthma\n",
      "class-wise accuracy for train [0.73571439 0.89449139]\n",
      "class-wise accuracy for test [0.67613996 0.39425563]\n",
      "\n",
      "precision train and test 0.34505976024652213 0.15930293305470558\n",
      "recall train and test 0.8944913884656231 0.3942556335426672\n",
      "f1 train and test 0.4980076608653179 0.22691755700845162\n",
      "max-depth 19\n",
      "Accuracy on train data 0.8063912229526753\n",
      "Accuracy on test data 0.6704274057120111\n",
      "\n",
      "\t\t\tno asthma\tasthma\n",
      "class-wise accuracy for train [0.78822434 0.92309646]\n",
      "class-wise accuracy for test [0.72376517 0.32776136]\n",
      "\n",
      "precision train and test 0.4042361742998686 0.1558972106303536\n",
      "recall train and test 0.9230964584199104 0.32776135943849277\n",
      "f1 train and test 0.5622539093261334 0.21129401958741403\n",
      "max-depth 21\n",
      "Accuracy on train data 0.8506309746677199\n",
      "Accuracy on test data 0.682120111453876\n",
      "\n",
      "\t\t\tno asthma\tasthma\n",
      "class-wise accuracy for train [0.83232466 0.96823198]\n",
      "class-wise accuracy for test [0.74193548 0.29783894]\n",
      "\n",
      "precision train and test 0.47337291464433257 0.15228785947017992\n",
      "recall train and test 0.9682319804220344 0.2978389360916143\n",
      "f1 train and test 0.6358674227491888 0.2015310107795657\n",
      "max-depth 23\n",
      "Accuracy on train data 0.8876529235055945\n",
      "Accuracy on test data 0.7079435764752712\n",
      "\n",
      "\t\t\tno asthma\tasthma\n",
      "class-wise accuracy for train [0.87232077 0.98614767]\n",
      "class-wise accuracy for test [0.77581795 0.2718877 ]\n",
      "\n",
      "precision train and test 0.5459286052069887 0.15880036679432546\n",
      "recall train and test 0.9861476658817011 0.27188769855929074\n",
      "f1 train and test 0.7027929743737404 0.20049715667245546\n",
      "max-depth 25\n",
      "Accuracy on train data 0.9077825391987959\n",
      "Accuracy on test data 0.7236043387401732\n",
      "\n",
      "\t\t\tno asthma\tasthma\n",
      "class-wise accuracy for train [0.89507712 0.98940296]\n",
      "class-wise accuracy for test [0.79943649 0.23642409]\n",
      "\n",
      "precision train and test 0.594795281054823 0.15503875968992248\n",
      "recall train and test 0.9894029643995013 0.23642408570373108\n",
      "f1 train and test 0.7429527408897058 0.18727139722019018\n",
      "max-depth 27\n",
      "Accuracy on train data 0.9339015940740003\n",
      "Accuracy on test data 0.7445019404915912\n",
      "\n",
      "\t\t\tno asthma\tasthma\n",
      "class-wise accuracy for train [0.92409039 0.9969294 ]\n",
      "class-wise accuracy for test [0.82810074 0.20742519]\n",
      "\n",
      "precision train and test 0.6715238791347216 0.158124471979724\n",
      "recall train and test 0.9969293992704438 0.2074251939416328\n",
      "f1 train and test 0.8024940297536635 0.17945030361137743\n",
      "max-depth 29\n",
      "Accuracy on train data 0.9500848970351343\n",
      "Accuracy on test data 0.7572892825156732\n",
      "\n",
      "\t\t\tno asthma\tasthma\n",
      "class-wise accuracy for train [0.94255567 0.99845316]\n",
      "class-wise accuracy for test [0.84594043 0.18775397]\n",
      "\n",
      "precision train and test 0.7301413111377488 0.15945098039215685\n",
      "recall train and test 0.9984531560234566 0.18775397118581455\n",
      "f1 train and test 0.8434735969574333 0.17244889303588093\n",
      "max-depth 31\n",
      "Accuracy on train data 0.9587985048170515\n",
      "Accuracy on test data 0.7562941586227485\n",
      "\n",
      "\t\t\tno asthma\tasthma\n",
      "class-wise accuracy for train [0.95257536 0.99877638]\n",
      "class-wise accuracy for test [0.84632856 0.17787218]\n",
      "\n",
      "precision train and test 0.7662645907504827 0.15266328471781865\n",
      "recall train and test 0.9987763771528836 0.1778721832286664\n",
      "f1 train and test 0.8672059015144681 0.16430643234942843\n",
      "max-depth 33\n",
      "Accuracy on train data 0.9734144778987829\n",
      "Accuracy on test data 0.7642924669121306\n",
      "\n",
      "\t\t\tno asthma\tasthma\n",
      "class-wise accuracy for train [0.9693659  0.99942282]\n",
      "class-wise accuracy for test [0.85666437 0.17085334]\n",
      "\n",
      "precision train and test 0.8354853029162566 0.1565011420353608\n",
      "recall train and test 0.9994228194117375 0.1708533431843369\n",
      "f1 train and test 0.9101306674235496 0.16336262086626344\n",
      "max-depth 35\n",
      "Accuracy on train data 0.9788659248801179\n",
      "Accuracy on test data 0.7688824758682457\n",
      "\n",
      "\t\t\tno asthma\tasthma\n",
      "class-wise accuracy for train [0.97560844 0.99979221]\n",
      "class-wise accuracy for test [0.86465701 0.1535833 ]\n",
      "\n",
      "precision train and test 0.8645093028826958 0.1501173497021123\n",
      "recall train and test 0.9997922149882256 0.15358330254894717\n",
      "f1 train and test 0.9272423613044128 0.1518305487081165\n",
      "max-depth 37\n",
      "Accuracy on train data 0.9818637542526262\n",
      "Accuracy on test data 0.7729251666832521\n",
      "\n",
      "\t\t\tno asthma\tasthma\n",
      "class-wise accuracy for train [0.97906215 0.99986148]\n",
      "class-wise accuracy for test [0.86964522 0.15155153]\n",
      "\n",
      "precision train and test 0.8814263035779705 0.1532355962274722\n",
      "recall train and test 0.999861476658817 0.15155153306243074\n",
      "f1 train and test 0.9369158878504672 0.15238891210474997\n",
      "max-depth 39\n",
      "Accuracy on train data 0.9875670935360081\n",
      "Accuracy on test data 0.7790078614787541\n",
      "\n",
      "\t\t\tno asthma\tasthma\n",
      "class-wise accuracy for train [0.98565329 0.99986148]\n",
      "class-wise accuracy for test [0.87758036 0.14573328]\n",
      "\n",
      "precision train and test 0.9156025369978859 0.1563304933623935\n",
      "recall train and test 0.999861476658817 0.14573328407831548\n",
      "f1 train and test 0.9558787825280861 0.15084599942644106\n"
     ]
    }
   ],
   "source": [
    "for depth in range(5, 40, 2):\n",
    "    print(\"max-depth\", depth)\n",
    "    clf = DecisionTreeClassifier(max_depth=depth, random_state = 42, class_weight = \"balanced\")\n",
    "    pca = PCA(n_components = 100)\n",
    "    x_train_pca = pca.fit_transform(x_train)\n",
    "    x_test_pca = pca.fit_transform(x_test)\n",
    "    clf.fit(x_train_pca, y_train)\n",
    "\n",
    "    train_pred = clf.predict(x_train_pca)\n",
    "    test_pred = clf.predict(x_test_pca)\n",
    "\n",
    "    print(\"Accuracy on train data\", metrics.accuracy_score(y_train, train_pred))\n",
    "    print(\"Accuracy on test data\", metrics.accuracy_score(y_test, test_pred))\n",
    "\n",
    "    train_matrix = confusion_matrix(y_train, train_pred)\n",
    "    test_matrix = confusion_matrix(y_test, test_pred)\n",
    "\n",
    "    print()\n",
    "    print(\"\\t\\t\\tno asthma\\tasthma\")\n",
    "    print(\"class-wise accuracy for train\", train_matrix.diagonal()/train_matrix.sum(axis=1))\n",
    "    print(\"class-wise accuracy for test\", test_matrix.diagonal()/test_matrix.sum(axis=1))\n",
    "\n",
    "    precision_train = precision_score(y_train, train_pred)\n",
    "    recall_train = recall_score(y_train, train_pred)\n",
    "    f1_train = f1_score(y_train, train_pred)\n",
    "\n",
    "    precision_test = precision_score(y_test, test_pred)\n",
    "    recall_test = recall_score(y_test, test_pred)\n",
    "    f1_test = f1_score(y_test, test_pred)\n",
    "\n",
    "    print()\n",
    "    print(\"precision train and test\", precision_train, precision_test)\n",
    "    print(\"recall train and test\", recall_train, recall_test)\n",
    "    print(\"f1 train and test\", f1_train, f1_test)"
   ]
  },
  {
   "cell_type": "code",
   "execution_count": null,
   "metadata": {
    "colab": {
     "background_save": true
    },
    "id": "ObIMjWvcy6LU",
    "outputId": "e853f590-6472-4445-e149-114a81ea6c86"
   },
   "outputs": [
    {
     "name": "stdout",
     "output_type": "stream",
     "text": [
      "(54510, 271) 54510\n",
      "(18170, 271)\n",
      "(10828, 271)\n"
     ]
    },
    {
     "name": "stderr",
     "output_type": "stream",
     "text": [
      "/usr/local/lib/python3.7/dist-packages/ipykernel_launcher.py:11: UserWarning: Boolean Series key will be reindexed to match DataFrame index.\n",
      "  # This is added back by InteractiveShellApp.init_path()\n",
      "/usr/local/lib/python3.7/dist-packages/sklearn/neural_network/_multilayer_perceptron.py:696: ConvergenceWarning: Stochastic Optimizer: Maximum iterations (40) reached and the optimization hasn't converged yet.\n",
      "  ConvergenceWarning,\n"
     ]
    },
    {
     "name": "stdout",
     "output_type": "stream",
     "text": [
      "Accuracy on train data 0.6806824435883324\n",
      "Accuracy on test data 0.8038486416558862\n",
      "\n",
      "\t\t\tno asthma\tasthma\n",
      "class-wise accuracy for train [0.93087507 0.18029719]\n",
      "class-wise accuracy for test [0.90657524 0.14388622]\n",
      "\n",
      "precision train and test 0.5659986178299931 0.19337222291175377\n",
      "recall train and test 0.1802971931755641 0.14388622090875508\n",
      "f1 train and test 0.2734785875281743 0.1649986761980408\n"
     ]
    }
   ],
   "source": [
    "# exp2 - asthma prediction with mlp\n",
    "\n",
    "from sklearn.neural_network import MLPClassifier\n",
    "from sklearn.preprocessing import StandardScaler\n",
    "sc = StandardScaler()\n",
    "\n",
    "x_train_small = pd.concat([x_train[y_train == 0].sample(2*18170), x_train[y_train == 1].sample(18170)])\n",
    "y_train_small = [0]*2*18170 + [1]*18170\n",
    "\n",
    "print(x_train_small.shape, len(y_train_small))\n",
    "print(x_train_small[y_train == 1].shape)\n",
    "print(x_test[y_test == 1].shape)\n",
    "\n",
    "pca = PCA(n_components= 40)\n",
    "\n",
    "mlp_clf = MLPClassifier(hidden_layer_sizes=(7,), random_state=42, max_iter=40)\n",
    "x_train_pca = pca.fit_transform(x_train_small)\n",
    "x_test_pca = pca.fit_transform(x_test)\n",
    "\n",
    "mlp_clf.fit(sc.fit_transform(x_train_pca), y_train_small)\n",
    "\n",
    "train_pred = mlp_clf.predict(sc.fit_transform(x_train_pca))\n",
    "test_pred = mlp_clf.predict(sc.fit_transform(x_test_pca))\n",
    "\n",
    "print(\"Accuracy on train data\", metrics.accuracy_score(y_train_small, train_pred))\n",
    "print(\"Accuracy on test data\", metrics.accuracy_score(y_test, test_pred))\n",
    "\n",
    "train_matrix = confusion_matrix(y_train_small, train_pred)\n",
    "test_matrix = confusion_matrix(y_test, test_pred)\n",
    "\n",
    "print()\n",
    "print(\"\\t\\t\\tno asthma\\tasthma\")\n",
    "print(\"class-wise accuracy for train\", train_matrix.diagonal()/train_matrix.sum(axis=1))\n",
    "print(\"class-wise accuracy for test\", test_matrix.diagonal()/test_matrix.sum(axis=1))\n",
    "\n",
    "precision_train = precision_score(y_train_small, train_pred)\n",
    "recall_train = recall_score(y_train_small, train_pred)\n",
    "f1_train = f1_score(y_train_small, train_pred)\n",
    "\n",
    "precision_test = precision_score(y_test, test_pred)\n",
    "recall_test = recall_score(y_test, test_pred)\n",
    "f1_test = f1_score(y_test, test_pred)\n",
    "\n",
    "print()\n",
    "print(\"precision train and test\", precision_train, precision_test)\n",
    "print(\"recall train and test\", recall_train, recall_test)\n",
    "print(\"f1 train and test\", f1_train, f1_test)\n"
   ]
  },
  {
   "cell_type": "code",
   "execution_count": null,
   "metadata": {
    "id": "BZFDnXWBy-CX",
    "colab": {
     "base_uri": "https://localhost:8080/"
    },
    "executionInfo": {
     "status": "ok",
     "timestamp": 1654389887367,
     "user_tz": 300,
     "elapsed": 8572346,
     "user": {
      "displayName": "Shubham Shahi",
      "userId": "03879382363725998877"
     }
    },
    "outputId": "511dc953-76dd-456c-82c2-b7962c7dd81f"
   },
   "outputs": [
    {
     "output_type": "stream",
     "name": "stdout",
     "text": [
      "max-depth 10\n",
      "Accuracy on train data 0.7206700957190748\n",
      "Accuracy on test data 0.6994974624340731\n",
      "\n",
      "\t\t\tno asthma\tasthma\n",
      "class-wise accuracy for train [0.73371261 0.63688415]\n",
      "class-wise accuracy for test [0.73962107 0.44172516]\n",
      "\n",
      "precision train and test 0.2712994561422488 0.20890111809923131\n",
      "recall train and test 0.636884148312324 0.4417251570003694\n",
      "f1 train and test 0.3805096727473361 0.28365555687344324\n",
      "max-depth 12\n",
      "Accuracy on train data 0.8140941517448984\n",
      "Accuracy on test data 0.7859612896805652\n",
      "\n",
      "\t\t\tno asthma\tasthma\n",
      "class-wise accuracy for train [0.83536147 0.67747149]\n",
      "class-wise accuracy for test [0.86912771 0.25166236]\n",
      "\n",
      "precision train and test 0.39044641075111436 0.2303660495392679\n",
      "recall train and test 0.6774714872789398 0.25166235685260435\n",
      "f1 train and test 0.49538697887211003 0.2405437613099704\n",
      "max-depth 14\n",
      "Accuracy on train data 0.9041596437434306\n",
      "Accuracy on test data 0.8435789630809035\n",
      "\n",
      "\t\t\tno asthma\tasthma\n",
      "class-wise accuracy for train [0.92953869 0.74112296]\n",
      "class-wise accuracy for test [0.96104307 0.08893609]\n",
      "\n",
      "precision train and test 0.6208250333610537 0.26218350122515655\n",
      "recall train and test 0.7411229625525234 0.0889360916143332\n",
      "f1 train and test 0.6756611696361857 0.1328184263154265\n",
      "max-depth 16\n",
      "Accuracy on train data 0.9544603596151334\n",
      "Accuracy on test data 0.8610060702557468\n",
      "\n",
      "\t\t\tno asthma\tasthma\n",
      "class-wise accuracy for train [0.97518796 0.82130489]\n",
      "class-wise accuracy for test [0.99108734 0.02530477]\n",
      "\n",
      "precision train and test 0.8374688073826452 0.30648769574944074\n",
      "recall train and test 0.8213048898739438 0.025304765422977465\n",
      "f1 train and test 0.8293080939947781 0.046749701416140585\n",
      "max-depth 18\n",
      "Accuracy on train data 0.9794443442403736\n",
      "Accuracy on test data 0.864663150562245\n",
      "\n",
      "\t\t\tno asthma\tasthma\n",
      "class-wise accuracy for train [0.99152207 0.90185621]\n",
      "class-wise accuracy for test [0.99838997 0.00554119]\n",
      "\n",
      "precision train and test 0.9430495871758968 0.3488372093023256\n",
      "recall train and test 0.901856212771852 0.005541189508681197\n",
      "f1 train and test 0.9219930135951662 0.01090909090909091\n",
      "max-depth 20\n",
      "Accuracy on train data 0.9911371227057587\n",
      "Accuracy on test data 0.8652104687033536\n",
      "\n",
      "\t\t\tno asthma\tasthma\n",
      "class-wise accuracy for train [0.99679427 0.95479522]\n",
      "class-wise accuracy for test [0.99964062 0.00157   ]\n",
      "\n",
      "precision train and test 0.9788865745124029 0.40476190476190477\n",
      "recall train and test 0.9547952163272845 0.001570003694126339\n",
      "f1 train and test 0.9666908206914283 0.0031278748850045997\n",
      "max-depth 22\n",
      "Accuracy on train data 0.9967844859220191\n",
      "Accuracy on test data 0.8654094934819385\n",
      "\n",
      "\t\t\tno asthma\tasthma\n",
      "class-wise accuracy for train [0.99874934 0.98416216]\n",
      "class-wise accuracy for test [9.99985625e-01 8.31178426e-04]\n",
      "\n",
      "precision train and test 0.9919024571854058 0.9\n",
      "recall train and test 0.9841621646580783 0.0008311784263021796\n",
      "f1 train and test 0.9880171514659868 0.0016608230300793503\n",
      "max-depth 24\n",
      "Accuracy on train data 0.9990452970774273\n",
      "Accuracy on test data 0.8652851029953229\n",
      "\n",
      "\t\t\tno asthma\tasthma\n",
      "class-wise accuracy for train [0.9995903  0.99554417]\n",
      "class-wise accuracy for test [9.99956874e-01 9.23531585e-05]\n",
      "\n",
      "precision train and test 0.9973632473690297 0.25\n",
      "recall train and test 0.9955441658586138 9.235315847801995e-05\n",
      "f1 train and test 0.9964528764052732 0.00018463810930576072\n",
      "max-depth 26\n",
      "Accuracy on train data 0.9996952414123383\n",
      "Accuracy on test data 0.8652975420439845\n",
      "\n",
      "\t\t\tno asthma\tasthma\n",
      "class-wise accuracy for train [0.99983468 0.99879946]\n",
      "class-wise accuracy for test [0.99998562 0.        ]\n",
      "\n",
      "precision train and test 0.9989378405837259 0.0\n",
      "recall train and test 0.9987994643764141 0.0\n",
      "f1 train and test 0.9988686476876544 0.0\n",
      "max-depth 28\n",
      "Accuracy on train data 0.9998756087397299\n",
      "Accuracy on test data 0.865309981092646\n",
      "\n",
      "\t\t\tno asthma\tasthma\n",
      "class-wise accuracy for train [0.99991375 0.9996306 ]\n",
      "class-wise accuracy for test [1. 0.]\n"
     ]
    },
    {
     "output_type": "stream",
     "name": "stderr",
     "text": [
      "/usr/local/lib/python3.7/dist-packages/sklearn/metrics/_classification.py:1318: UndefinedMetricWarning: Precision is ill-defined and being set to 0.0 due to no predicted samples. Use `zero_division` parameter to control this behavior.\n",
      "  _warn_prf(average, modifier, msg_start, len(result))\n"
     ]
    },
    {
     "output_type": "stream",
     "name": "stdout",
     "text": [
      "\n",
      "precision train and test 0.9994460089561885 0.0\n",
      "recall train and test 0.999630604423512 0.0\n",
      "f1 train and test 0.9995382981670438 0.0\n",
      "max-depth 30\n",
      "Accuracy on train data 0.9999284750253448\n",
      "Accuracy on test data 0.8652975420439845\n",
      "\n",
      "\t\t\tno asthma\tasthma\n",
      "class-wise accuracy for train [0.99996047 0.99972295]\n",
      "class-wise accuracy for test [0.99998562 0.        ]\n",
      "\n",
      "precision train and test 0.9997460346778103 0.0\n",
      "recall train and test 0.999722953317634 0.0\n",
      "f1 train and test 0.9997344938644995 0.0\n",
      "max-depth 32\n",
      "Accuracy on train data 0.9999657924034258\n",
      "Accuracy on test data 0.865309981092646\n",
      "\n",
      "\t\t\tno asthma\tasthma\n",
      "class-wise accuracy for train [0.99998562 0.99983839]\n",
      "class-wise accuracy for test [1. 0.]\n"
     ]
    },
    {
     "output_type": "stream",
     "name": "stderr",
     "text": [
      "/usr/local/lib/python3.7/dist-packages/sklearn/metrics/_classification.py:1318: UndefinedMetricWarning: Precision is ill-defined and being set to 0.0 due to no predicted samples. Use `zero_division` parameter to control this behavior.\n",
      "  _warn_prf(average, modifier, msg_start, len(result))\n"
     ]
    },
    {
     "output_type": "stream",
     "name": "stdout",
     "text": [
      "\n",
      "precision train and test 0.9999076447091962 0.0\n",
      "recall train and test 0.9998383894352865 0.0\n",
      "f1 train and test 0.9998730158730157 0.0\n",
      "max-depth 34\n",
      "Accuracy on train data 0.9999689021849325\n",
      "Accuracy on test data 0.865309981092646\n",
      "\n",
      "\t\t\tno asthma\tasthma\n",
      "class-wise accuracy for train [0.99999281 0.9998153 ]\n",
      "class-wise accuracy for test [1. 0.]\n",
      "\n",
      "precision train and test 0.9999538191558142 0.0\n",
      "recall train and test 0.999815302211756 0.0\n",
      "f1 train and test 0.9998845558864953 0.0\n"
     ]
    },
    {
     "output_type": "stream",
     "name": "stderr",
     "text": [
      "/usr/local/lib/python3.7/dist-packages/sklearn/metrics/_classification.py:1318: UndefinedMetricWarning: Precision is ill-defined and being set to 0.0 due to no predicted samples. Use `zero_division` parameter to control this behavior.\n",
      "  _warn_prf(average, modifier, msg_start, len(result))\n"
     ]
    }
   ],
   "source": [
    "# exp3 - asthma prediction using ensemble - random forest\n",
    "\n",
    "for depth in range(10, 35, 2):\n",
    "    print(\"max-depth\", depth)\n",
    "    rf_clf = RandomForestClassifier(max_depth=depth, random_state = 42, class_weight = \"balanced\")\n",
    "    pca = PCA(n_components= 100)\n",
    "    \n",
    "    x_train_pca = pca.fit_transform(x_train)\n",
    "    x_test_pca = pca.fit_transform(x_test)\n",
    "    \n",
    "    rf_clf.fit(x_train_pca, y_train)\n",
    "\n",
    "\n",
    "    train_pred = rf_clf.predict(x_train_pca)\n",
    "    test_pred = rf_clf.predict(x_test_pca)\n",
    "\n",
    "    print(\"Accuracy on train data\", metrics.accuracy_score(y_train, train_pred))\n",
    "    print(\"Accuracy on test data\", metrics.accuracy_score(y_test, test_pred))\n",
    "\n",
    "    train_matrix = confusion_matrix(y_train, train_pred)\n",
    "    test_matrix = confusion_matrix(y_test, test_pred)\n",
    "\n",
    "    print()\n",
    "    print(\"\\t\\t\\tno asthma\\tasthma\")\n",
    "    print(\"class-wise accuracy for train\", train_matrix.diagonal()/train_matrix.sum(axis=1))\n",
    "    print(\"class-wise accuracy for test\", test_matrix.diagonal()/test_matrix.sum(axis=1))\n",
    "\n",
    "    precision_train = precision_score(y_train, train_pred)\n",
    "    recall_train = recall_score(y_train, train_pred)\n",
    "    f1_train = f1_score(y_train, train_pred)\n",
    "\n",
    "    precision_test = precision_score(y_test, test_pred)\n",
    "    recall_test = recall_score(y_test, test_pred)\n",
    "    f1_test = f1_score(y_test, test_pred)\n",
    "\n",
    "    print()\n",
    "    print(\"precision train and test\", precision_train, precision_test)\n",
    "    print(\"recall train and test\", recall_train, recall_test)\n",
    "    print(\"f1 train and test\", f1_train, f1_test)"
   ]
  },
  {
   "cell_type": "code",
   "execution_count": null,
   "metadata": {
    "id": "MKqVQD4Xz3lW"
   },
   "outputs": [],
   "source": [
    "clf = DecisionTreeClassifier(max_depth=13, random_state = 42, class_weight = \"balanced\")\n",
    "pca = PCA(n_components = 100)\n",
    "x_train_pca = pca.fit_transform(x_train)\n",
    "x_test_pca = pca.fit_transform(x_test)\n",
    "clf.fit(x_train_pca, y_train)\n",
    "dtree_train_pred = clf.predict_proba(x_train_pca)\n",
    "dtree_test_pred = clf.predict_proba(x_test_pca)"
   ]
  },
  {
   "cell_type": "code",
   "execution_count": null,
   "metadata": {
    "id": "sZoFckY90Sxe",
    "colab": {
     "base_uri": "https://localhost:8080/"
    },
    "executionInfo": {
     "status": "ok",
     "timestamp": 1654395520461,
     "user_tz": 300,
     "elapsed": 23973,
     "user": {
      "displayName": "Shubham Shahi",
      "userId": "03879382363725998877"
     }
    },
    "outputId": "0884a97b-20b0-4ec0-8cd1-aebe7f019c28"
   },
   "outputs": [
    {
     "output_type": "stream",
     "name": "stderr",
     "text": [
      "/usr/local/lib/python3.7/dist-packages/sklearn/neural_network/_multilayer_perceptron.py:696: ConvergenceWarning: Stochastic Optimizer: Maximum iterations (40) reached and the optimization hasn't converged yet.\n",
      "  ConvergenceWarning,\n"
     ]
    }
   ],
   "source": [
    "pca = PCA(n_components= 40)\n",
    "\n",
    "mlp_clf = MLPClassifier(hidden_layer_sizes=(7,), random_state=42, max_iter=40)\n",
    "x_train_small_pca = pca.fit_transform(x_train_small)\n",
    "x_test_pca = pca.transform(x_test)\n",
    "x_train_pca = pca.transform(x_train)\n",
    "\n",
    "mlp_clf.fit(sc.fit_transform(x_train_small_pca), y_train_small)\n",
    "\n",
    "mlp_train_pred = mlp_clf.predict_proba(sc.fit_transform(x_train_pca))\n",
    "mlp_test_pred = mlp_clf.predict_proba(sc.fit_transform(x_test_pca))"
   ]
  },
  {
   "cell_type": "code",
   "execution_count": null,
   "metadata": {
    "id": "gVgOjADC0ZC8"
   },
   "outputs": [],
   "source": [
    "rf_clf = RandomForestClassifier(max_depth=10, random_state = 42, class_weight = \"balanced\")\n",
    "pca = PCA(n_components= 100)\n",
    "\n",
    "x_train_pca = pca.fit_transform(x_train)\n",
    "x_test_pca = pca.fit_transform(x_test)\n",
    "\n",
    "rf_clf.fit(x_train_pca, y_train)\n",
    "\n",
    "rf_train_pred = rf_clf.predict_proba(x_train_pca)\n",
    "rf_test_pred = rf_clf.predict_proba(x_test_pca)\n"
   ]
  },
  {
   "cell_type": "code",
   "execution_count": null,
   "metadata": {
    "id": "358RWZ9RzEuP",
    "colab": {
     "base_uri": "https://localhost:8080/"
    },
    "executionInfo": {
     "status": "ok",
     "timestamp": 1654395532202,
     "user_tz": 300,
     "elapsed": 2211,
     "user": {
      "displayName": "Shubham Shahi",
      "userId": "03879382363725998877"
     }
    },
    "outputId": "d924b724-2770-4fed-c94e-e3c5f28b8239"
   },
   "outputs": [
    {
     "output_type": "stream",
     "name": "stdout",
     "text": [
      "Accuracy on train data 0.7811895536219625\n",
      "Accuracy on test data 0.7427231565329884\n",
      "\n",
      "\t\t\tno asthma\t asthma\n",
      "class-wise accuracy for train [0.81439487 0.56787644]\n",
      "class-wise accuracy for test [0.80537347 0.34022904]\n",
      "\n",
      "\n",
      "precision train and test 0.32261745494609273 0.2139000174185682\n",
      "recall train and test 0.5678764371796647 0.3402290358330255\n",
      "f1 train and test 0.4114724480578139 0.2626644326405476\n",
      "\n"
     ]
    }
   ],
   "source": [
    "final_pred_train = []\n",
    "final_pred_test = []\n",
    "\n",
    "for i in range(len(dtree_train_pred)):\n",
    "    val = (dtree_train_pred[i][0] + mlp_train_pred[i][0] + rf_train_pred[i][0])/3\n",
    "    if val <= 0.5:\n",
    "        final_pred_train.append(1)\n",
    "    else:\n",
    "        final_pred_train.append(0)\n",
    "\n",
    "for i in range(len(dtree_test_pred)):\n",
    "    val = (dtree_test_pred[i][0] + mlp_test_pred[i][0] + rf_test_pred[i][0])/3\n",
    "    if val <= 0.5:\n",
    "        final_pred_test.append(1)\n",
    "    else:\n",
    "        final_pred_test.append(0)\n",
    "\n",
    "print(\"Accuracy on train data\", metrics.accuracy_score(y_train, final_pred_train))\n",
    "print(\"Accuracy on test data\", metrics.accuracy_score(y_test, final_pred_test))\n",
    "\n",
    "train_matrix = confusion_matrix(y_train, final_pred_train)\n",
    "test_matrix = confusion_matrix(y_test, final_pred_test)\n",
    "\n",
    "print()\n",
    "print(\"\\t\\t\\tno asthma\\t asthma\")\n",
    "print(\"class-wise accuracy for train\", train_matrix.diagonal()/train_matrix.sum(axis=1))\n",
    "print(\"class-wise accuracy for test\", test_matrix.diagonal()/test_matrix.sum(axis=1))\n",
    "\n",
    "print()\n",
    "\n",
    "precision_train = precision_score(y_train, final_pred_train)\n",
    "recall_train = recall_score(y_train, final_pred_train)\n",
    "f1_train = f1_score(y_train, final_pred_train)\n",
    "\n",
    "precision_test = precision_score(y_test, final_pred_test)\n",
    "recall_test = recall_score(y_test, final_pred_test)\n",
    "f1_test = f1_score(y_test, final_pred_test)\n",
    "\n",
    "print()\n",
    "print(\"precision train and test\", precision_train, precision_test)\n",
    "print(\"recall train and test\", recall_train, recall_test)\n",
    "print(\"f1 train and test\", f1_train, f1_test)\n",
    "\n",
    "print()"
   ]
  },
  {
   "cell_type": "code",
   "source": [
    ""
   ],
   "metadata": {
    "id": "Y1iHFbdPg2D9"
   },
   "execution_count": null,
   "outputs": []
  }
 ],
 "metadata": {
  "colab": {
   "collapsed_sections": [],
   "name": "GroupF_DSPAsthma.ipynb",
   "provenance": [
    {
     "file_id": "1HZ_F8NTTKDW6T5NLQx4TMT3DwkJWy3lY",
     "timestamp": 1654366380265
    },
    {
     "file_id": "1neLYjUoutOqcjK7OiKoEaYWr64MgQxEQ",
     "timestamp": 1654366055311
    },
    {
     "file_id": "1RkKxmaNKtgdpd603GdOdy6hiArKbCEA4",
     "timestamp": 1654179394772
    },
    {
     "file_id": "16ZAmvEGfuOj4Vynyw_1OcfR53is3fQfV",
     "timestamp": 1651539754589
    }
   ]
  },
  "kernelspec": {
   "display_name": "Python 3",
   "language": "python",
   "name": "python3"
  },
  "language_info": {
   "codemirror_mode": {
    "name": "ipython",
    "version": 3
   },
   "file_extension": ".py",
   "mimetype": "text/x-python",
   "name": "python",
   "nbconvert_exporter": "python",
   "pygments_lexer": "ipython3",
   "version": "3.8.3"
  }
 },
 "nbformat": 4,
 "nbformat_minor": 0
}