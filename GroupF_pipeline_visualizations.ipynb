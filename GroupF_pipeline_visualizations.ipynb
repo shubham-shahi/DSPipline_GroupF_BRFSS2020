{
 "nbformat": 4,
 "nbformat_minor": 0,
 "metadata": {
  "colab": {
   "name": "GroupF_pipeline_visualizations.ipynb",
   "provenance": [],
   "collapsed_sections": []
  },
  "kernelspec": {
   "name": "python3",
   "display_name": "Python 3"
  },
  "language_info": {
   "name": "python"
  }
 },
 "cells": [
  {
   "cell_type": "code",
   "execution_count": null,
   "metadata": {
    "id": "W5UpRhSdteRw"
   },
   "outputs": [],
   "source": [
    "import numpy as np\n",
    "import pandas as pd\n",
    "import matplotlib.pyplot as plt\n",
    "%matplotlib inline\n",
    "import seaborn as sns\n",
    "import sklearn\n",
    "from sklearn import metrics\n",
    "from sklearn.model_selection import train_test_split\n",
    "from sklearn.tree import DecisionTreeClassifier\n",
    "from sklearn.metrics import confusion_matrix\n",
    "\n",
    "from sklearn.ensemble import RandomForestClassifier\n",
    "from sklearn.metrics import precision_score\n",
    "from sklearn.metrics import recall_score\n",
    "from sklearn.metrics import f1_score\n",
    "\n",
    "\n",
    "from google.colab import drive\n",
    "drive.mount('/content/drive')\n",
    "#df=pd.read_csv('brfss2020.csv')\n",
    "df = pd.read_csv(\"/content/drive/MyDrive/DSS_Pipeline/brfss2020.csv\")\n",
    "\n",
    "import os\n",
    "from google.colab import files"
   ]
  },
  {
   "cell_type": "code",
   "source": [
    "state = {\n",
    "    1: 'Alabama',\n",
    "    2: 'Alaska',\n",
    "    4: 'Arizona',\n",
    "    5: 'Arkansas',\n",
    "    6: 'California',\n",
    "    8: 'Colorado',\n",
    "    9: 'Connecticut',\n",
    "    10: 'Delaware',\n",
    "    11: ' District of Columbia',\n",
    "    12: 'Florida',\n",
    "    13: 'Georgia',\n",
    "    15: 'Hawaii',\n",
    "    16: 'Idaho',\n",
    "    17: 'Illinois',\n",
    "    18: 'Indiana',\n",
    "    19: 'Iowa',\n",
    "    20: 'Kansas',\n",
    "    21: 'Kentucky',\n",
    "    22: 'Louisiana',\n",
    "    23: 'Maine',\n",
    "    24: 'Maryland',\n",
    "    25: 'Massachusetts',\n",
    "    26: 'Michigan',\n",
    "    27: 'Minnesota',\n",
    "    28: 'Mississippi',\n",
    "    29: 'Missouri',\n",
    "    30: 'Montana',\n",
    "    31: 'Nebraska',\n",
    "    32: 'Nevada',\n",
    "    33: 'New Hampshire',\n",
    "    34: 'New Jersey',\n",
    "    35: 'New Mexico',\n",
    "    36: 'New York',\n",
    "    37: 'North Carolina',\n",
    "    38: 'North Dakota',\n",
    "    39: 'Ohio',\n",
    "    40: 'Oklahoma',\n",
    "    41: 'Oregon',\n",
    "    42: 'Pennsylvania',\n",
    "    44: 'Rhode Island',\n",
    "    45: 'South Carolina',\n",
    "    46: 'South Dakota',\n",
    "    47: 'Tennessee',\n",
    "    48: 'Texas',\n",
    "    49: 'Utah',\n",
    "    50: 'Vermont',\n",
    "    51: 'Virginia',\n",
    "    53: 'Washington',\n",
    "    54: 'West Virginia',\n",
    "    55: 'Wisconsin',\n",
    "    56: 'Wyoming',\n",
    "    66: 'Guam',\n",
    "    72: 'Puerto Rico'\n",
    "}"
   ],
   "metadata": {
    "id": "efrs50F8tuP5"
   },
   "execution_count": null,
   "outputs": []
  },
  {
   "cell_type": "code",
   "source": [
    "#state-wise health care access\n",
    "\n",
    "data1 = df[df['HLTHPLN1']==1].groupby(['_STATE'])['HLTHPLN1'].size().reset_index()\n",
    "data2 = df[df['HLTHPLN1']!=1].groupby(['_STATE'])['HLTHPLN1'].count().reset_index()\n",
    "data1['HLTHPLN1_percentage'] = 100*data1['HLTHPLN1']/(data1['HLTHPLN1']+data2['HLTHPLN1'])\n",
    "\n",
    "sorted_data1 = data1.sort_values(['HLTHPLN1_percentage', '_STATE'])\n",
    "\n",
    "plt.plot([state[i] for i in sorted_data1['_STATE'].tolist()], sorted_data1['HLTHPLN1_percentage'])\n",
    "plt.xlabel('state')\n",
    "plt.ylabel('% of access to healthcare')\n",
    "plt.title('% of access to healthcare by state')\n",
    "plt.xticks(fontsize=7, rotation=90)\n",
    "plt.show()\n",
    "plt.savefig(\"per-hlthcare.png\")\n",
    "files.download(\"per-hlthcare.png\") \n",
    "\n",
    "sorted_data1 = data1.sort_values(['HLTHPLN1', '_STATE'])\n",
    "\n",
    "plt.plot([state[i] for i in sorted_data1['_STATE'].tolist()], sorted_data1['HLTHPLN1'])\n",
    "plt.xlabel('state')\n",
    "plt.ylabel('access to healthcare')\n",
    "plt.title('access to healthcare by state')\n",
    "plt.xticks(fontsize=7, rotation=90)\n",
    "plt.show()\n",
    "plt.savefig(\"cnt_hlthcare.png\")\n",
    "files.download(\"cnt_hlthcare.png\")"
   ],
   "metadata": {
    "colab": {
     "base_uri": "https://localhost:8080/",
     "height": 715
    },
    "id": "yNBnpIm6tyN6",
    "executionInfo": {
     "status": "ok",
     "timestamp": 1654363035345,
     "user_tz": 300,
     "elapsed": 1678,
     "user": {
      "displayName": "Sai Amara",
      "userId": "02742017909969161801"
     }
    },
    "outputId": "f5ab011b-57d3-4316-d786-793b69278604"
   },
   "execution_count": null,
   "outputs": [
    {
     "output_type": "display_data",
     "data": {
      "text/plain": [
       "<Figure size 432x288 with 1 Axes>"
      ],
      "image/png": "[encoded data removed]"
     },
     "metadata": {
      "needs_background": "light"
     }
    },
    {
     "output_type": "display_data",
     "data": {
      "text/plain": [
       "<IPython.core.display.Javascript object>"
      ],
      "application/javascript": [
       "\n",
       "    async function download(id, filename, size) {\n",
       "      if (!google.colab.kernel.accessAllowed) {\n",
       "        return;\n",
       "      }\n",
       "      const div = document.createElement('div');\n",
       "      const label = document.createElement('label');\n",
       "      label.textContent = `Downloading \"${filename}\": `;\n",
       "      div.appendChild(label);\n",
       "      const progress = document.createElement('progress');\n",
       "      progress.max = size;\n",
       "      div.appendChild(progress);\n",
       "      document.body.appendChild(div);\n",
       "\n",
       "      const buffers = [];\n",
       "      let downloaded = 0;\n",
       "\n",
       "      const channel = await google.colab.kernel.comms.open(id);\n",
       "      // Send a message to notify the kernel that we're ready.\n",
       "      channel.send({})\n",
       "\n",
       "      for await (const message of channel.messages) {\n",
       "        // Send a message to notify the kernel that we're ready.\n",
       "        channel.send({})\n",
       "        if (message.buffers) {\n",
       "          for (const buffer of message.buffers) {\n",
       "            buffers.push(buffer);\n",
       "            downloaded += buffer.byteLength;\n",
       "            progress.value = downloaded;\n",
       "          }\n",
       "        }\n",
       "      }\n",
       "      const blob = new Blob(buffers, {type: 'application/binary'});\n",
       "      const a = document.createElement('a');\n",
       "      a.href = window.URL.createObjectURL(blob);\n",
       "      a.download = filename;\n",
       "      div.appendChild(a);\n",
       "      a.click();\n",
       "      div.remove();\n",
       "    }\n",
       "  "
      ]
     },
     "metadata": {}
    },
    {
     "output_type": "display_data",
     "data": {
      "text/plain": [
       "<IPython.core.display.Javascript object>"
      ],
      "application/javascript": [
       "download(\"download_a6197509-b394-4938-80cf-435c805a2d4c\", \"per-hlthcare.png\", 1273)"
      ]
     },
     "metadata": {}
    },
    {
     "output_type": "display_data",
     "data": {
      "text/plain": [
       "<Figure size 432x288 with 1 Axes>"
      ],
      "image/png": "[encoded data removed]"
     },
     "metadata": {
      "needs_background": "light"
     }
    },
    {
     "output_type": "display_data",
     "data": {
      "text/plain": [
       "<IPython.core.display.Javascript object>"
      ],
      "application/javascript": [
       "\n",
       "    async function download(id, filename, size) {\n",
       "      if (!google.colab.kernel.accessAllowed) {\n",
       "        return;\n",
       "      }\n",
       "      const div = document.createElement('div');\n",
       "      const label = document.createElement('label');\n",
       "      label.textContent = `Downloading \"${filename}\": `;\n",
       "      div.appendChild(label);\n",
       "      const progress = document.createElement('progress');\n",
       "      progress.max = size;\n",
       "      div.appendChild(progress);\n",
       "      document.body.appendChild(div);\n",
       "\n",
       "      const buffers = [];\n",
       "      let downloaded = 0;\n",
       "\n",
       "      const channel = await google.colab.kernel.comms.open(id);\n",
       "      // Send a message to notify the kernel that we're ready.\n",
       "      channel.send({})\n",
       "\n",
       "      for await (const message of channel.messages) {\n",
       "        // Send a message to notify the kernel that we're ready.\n",
       "        channel.send({})\n",
       "        if (message.buffers) {\n",
       "          for (const buffer of message.buffers) {\n",
       "            buffers.push(buffer);\n",
       "            downloaded += buffer.byteLength;\n",
       "            progress.value = downloaded;\n",
       "          }\n",
       "        }\n",
       "      }\n",
       "      const blob = new Blob(buffers, {type: 'application/binary'});\n",
       "      const a = document.createElement('a');\n",
       "      a.href = window.URL.createObjectURL(blob);\n",
       "      a.download = filename;\n",
       "      div.appendChild(a);\n",
       "      a.click();\n",
       "      div.remove();\n",
       "    }\n",
       "  "
      ]
     },
     "metadata": {}
    },
    {
     "output_type": "display_data",
     "data": {
      "text/plain": [
       "<IPython.core.display.Javascript object>"
      ],
      "application/javascript": [
       "download(\"download_69c6150b-1eab-4e31-afee-5007c81a1955\", \"cnt_hlthcare.png\", 1273)"
      ]
     },
     "metadata": {}
    },
    {
     "output_type": "display_data",
     "data": {
      "text/plain": [
       "<Figure size 432x288 with 0 Axes>"
      ]
     },
     "metadata": {}
    }
   ]
  },
  {
   "cell_type": "code",
   "source": [
    "import numpy as np\n",
    "missing_values = [feature for feature in df.columns if df[feature].isnull().sum() > 1]\n",
    "\n",
    "for feature in missing_values:\n",
    "  print(f\"{feature} {np.round(df[feature].isnull().mean(), 2)}% missing values\")"
   ],
   "metadata": {
    "colab": {
     "base_uri": "https://localhost:8080/"
    },
    "id": "h0BhkpNRt_Aa",
    "executionInfo": {
     "status": "ok",
     "timestamp": 1654363048101,
     "user_tz": 300,
     "elapsed": 1317,
     "user": {
      "displayName": "Sai Amara",
      "userId": "02742017909969161801"
     }
    },
    "outputId": "8cdf5b77-68c8-4d82-c99f-ea0eb95fd9a7"
   },
   "execution_count": null,
   "outputs": [
    {
     "output_type": "stream",
     "name": "stdout",
     "text": [
      "CTELENM1 0.6896% missing values\n",
      "PVTRESD1 0.6896% missing values\n",
      "COLGHOUS 0.9999% missing values\n",
      "STATERE1 0.6896% missing values\n",
      "CELPHONE 0.6896% missing values\n",
      "LADULT1 0.6896% missing values\n",
      "COLGSEX 0.9999% missing values\n",
      "NUMADULT 0.6897% missing values\n",
      "LANDSEX 0.872% missing values\n",
      "NUMMEN 0.7253% missing values\n",
      "NUMWOMEN 0.7253% missing values\n",
      "RESPSLCT 0.882% missing values\n",
      "SAFETIME 0.3104% missing values\n",
      "CTELNUM1 0.3104% missing values\n",
      "CELLFON5 0.3104% missing values\n",
      "CADULT1 0.3104% missing values\n",
      "CELLSEX 0.3104% missing values\n",
      "PVTRESD3 0.3104% missing values\n",
      "CCLGHOUS 0.9976% missing values\n",
      "CSTATE1 0.3104% missing values\n",
      "LANDLINE 0.3104% missing values\n",
      "HHADULT 0.3104% missing values\n",
      "GENHLTH 0.0% missing values\n",
      "PHYSHLTH 0.0% missing values\n",
      "MENTHLTH 0.0% missing values\n",
      "POORHLTH 0.4984% missing values\n",
      "HLTHPLN1 0.0% missing values\n",
      "PERSDOC2 0.0% missing values\n",
      "MEDCOST 0.0% missing values\n",
      "CHECKUP1 0.0% missing values\n",
      "EXERANY2 0.0% missing values\n",
      "SLEPTIM1 0.0% missing values\n",
      "CVDINFR4 0.0% missing values\n",
      "CVDCRHD4 0.0% missing values\n",
      "CVDSTRK3 0.0% missing values\n",
      "ASTHMA3 0.0% missing values\n",
      "ASTHNOW 0.8653% missing values\n",
      "CHCSCNCR 0.0% missing values\n",
      "CHCOCNCR 0.0% missing values\n",
      "CHCCOPD2 0.0% missing values\n",
      "HAVARTH4 0.0% missing values\n",
      "ADDEPEV3 0.0% missing values\n",
      "CHCKDNY2 0.0% missing values\n",
      "DIABETE4 0.0% missing values\n",
      "DIABAGE3 0.8704% missing values\n",
      "LASTDEN4 0.0% missing values\n",
      "RMVTETH4 0.0% missing values\n",
      "MARITAL 0.0% missing values\n",
      "EDUCA 0.0% missing values\n",
      "RENTHOM1 0.0% missing values\n",
      "NUMHHOL3 0.6897% missing values\n",
      "NUMPHON3 0.9247% missing values\n",
      "CPDEMO1B 0.0003% missing values\n",
      "VETERAN3 0.0033% missing values\n",
      "EMPLOY1 0.0073% missing values\n",
      "CHILDREN 0.0119% missing values\n",
      "INCOME2 0.0183% missing values\n",
      "PREGNANT 0.8119% missing values\n",
      "WEIGHT2 0.0245% missing values\n",
      "HEIGHT3 0.0269% missing values\n",
      "DEAF 0.0309% missing values\n",
      "BLIND 0.0331% missing values\n",
      "DECIDE 0.0357% missing values\n",
      "DIFFWALK 0.038% missing values\n",
      "DIFFDRES 0.0395% missing values\n",
      "DIFFALON 0.0417% missing values\n",
      "SMOKE100 0.0444% missing values\n",
      "SMOKDAY2 0.6103% missing values\n",
      "STOPSMK2 0.8696% missing values\n",
      "LASTSMK2 0.742% missing values\n",
      "USENOW3 0.046% missing values\n",
      "ALCDAY5 0.0521% missing values\n",
      "AVEDRNK3 0.5252% missing values\n",
      "DRNK3GE5 0.5265% missing values\n",
      "MAXDRNKS 0.5277% missing values\n",
      "FLUSHOT7 0.0585% missing values\n",
      "FLSHTMY3 0.5101% missing values\n",
      "SHINGLE2 0.4127% missing values\n",
      "PNEUVAC4 0.0608% missing values\n",
      "FALL12MN 0.3428% missing values\n",
      "FALLINJ4 0.8292% missing values\n",
      "SEATBELT 0.0635% missing values\n",
      "DRNKDRI2 0.5185% missing values\n",
      "HADMAM 0.4937% missing values\n",
      "HOWLONG 0.6106% missing values\n",
      "HADPAP2 0.4949% missing values\n",
      "LASTPAP2 0.536% missing values\n",
      "HPVTEST 0.496% missing values\n",
      "HPLSTTST 0.8371% missing values\n",
      "HADHYST2 0.5018% missing values\n",
      "PCPSAAD3 0.6851% missing values\n",
      "PCPSADI1 0.6857% missing values\n",
      "PCPSARE1 0.6863% missing values\n",
      "PSATEST1 0.6867% missing values\n",
      "PSATIME 0.8548% missing values\n",
      "PCPSARS1 0.8551% missing values\n",
      "COLNSCPY 0.3568% missing values\n",
      "COLNTEST 0.5488% missing values\n",
      "SIGMSCPY 0.3581% missing values\n",
      "SIGMTEST 0.9207% missing values\n",
      "BLDSTOL1 0.3592% missing values\n",
      "LSTBLDS4 0.7933% missing values\n",
      "STOOLDNA 0.3605% missing values\n",
      "SDNATEST 0.9543% missing values\n",
      "VIRCOLON 0.3619% missing values\n",
      "VCLNTEST 0.9721% missing values\n",
      "HIVTST7 0.0847% missing values\n",
      "HIVTSTD3 0.7094% missing values\n",
      "HIVRISK5 0.0894% missing values\n",
      "PDIABTST 0.4553% missing values\n",
      "PREDIAB1 0.4552% missing values\n",
      "INSULIN1 0.9674% missing values\n",
      "BLDSUGAR 0.9674% missing values\n",
      "FEETCHK3 0.9674% missing values\n",
      "DOCTDIAB 0.9674% missing values\n",
      "CHKHEMO3 0.9674% missing values\n",
      "FEETCHK 0.9676% missing values\n",
      "EYEEXAM1 0.9674% missing values\n",
      "DIABEYE 0.9674% missing values\n",
      "DIABEDU 0.9674% missing values\n",
      "TOLDCFS 1.0% missing values\n",
      "HAVECFS 1.0% missing values\n",
      "WORKCFS 1.0% missing values\n",
      "TOLDHEPC 0.9532% missing values\n",
      "TRETHEPC 0.9993% missing values\n",
      "PRIRHEPC 0.9993% missing values\n",
      "HAVEHEPC 0.9993% missing values\n",
      "HAVEHEPB 0.9533% missing values\n",
      "MEDSHEPB 0.9996% missing values\n",
      "HLTHCVR1 0.902% missing values\n",
      "CIMEMLOS 0.8312% missing values\n",
      "CDHOUSE 0.9848% missing values\n",
      "CDASSIST 0.9848% missing values\n",
      "CDHELP 0.9959% missing values\n",
      "CDSOCIAL 0.9848% missing values\n",
      "CDDISCUS 0.9848% missing values\n",
      "CAREGIV1 0.9242% missing values\n",
      "CRGVREL4 0.9854% missing values\n",
      "CRGVLNG1 0.9855% missing values\n",
      "CRGVHRS1 0.9855% missing values\n",
      "CRGVPRB3 0.9855% missing values\n",
      "CRGVALZD 0.9867% missing values\n",
      "CRGVPER1 0.9856% missing values\n",
      "CRGVHOU1 0.9856% missing values\n",
      "CRGVEXPT 0.9263% missing values\n",
      "ECIGARET 0.3418% missing values\n",
      "ECIGNOW 0.8737% missing values\n",
      "MARIJAN1 0.675% missing values\n",
      "USEMRJN2 0.9715% missing values\n",
      "RSNMRJN1 0.9716% missing values\n",
      "LCSFIRST 0.9651% missing values\n",
      "LCSLAST 0.9661% missing values\n",
      "LCSNUMCG 0.9661% missing values\n",
      "LCSCTSCN 0.9223% missing values\n",
      "CNCRDIFF 0.9424% missing values\n",
      "CNCRAGE 0.9435% missing values\n",
      "CNCRTYP1 0.9436% missing values\n",
      "CSRVTRT3 0.9403% missing values\n",
      "CSRVDOC1 0.9662% missing values\n",
      "CSRVSUM 0.9663% missing values\n",
      "CSRVRTRN 0.9663% missing values\n",
      "CSRVINST 0.9752% missing values\n",
      "CSRVINSR 0.9664% missing values\n",
      "CSRVDEIN 0.9664% missing values\n",
      "CSRVCLIN 0.9664% missing values\n",
      "CSRVPAIN 0.9452% missing values\n",
      "CSRVCTL2 0.9954% missing values\n",
      "PCPSADE1 0.9954% missing values\n",
      "PCDMDEC1 0.999% missing values\n",
      "HPVADVC4 0.9624% missing values\n",
      "HPVADSHT 0.9931% missing values\n",
      "TETANUS1 0.9802% missing values\n",
      "IMFVPLA1 0.9811% missing values\n",
      "BIRTHSEX 0.7481% missing values\n",
      "SOMALE 0.7262% missing values\n",
      "SOFEMALE 0.6764% missing values\n",
      "TRNSGNDR 0.4029% missing values\n",
      "ACEDEPRS 0.6781% missing values\n",
      "ACEDRINK 0.6786% missing values\n",
      "ACEDRUGS 0.6787% missing values\n",
      "ACEPRISN 0.6789% missing values\n",
      "ACEDIVRC 0.679% missing values\n",
      "ACEPUNCH 0.6792% missing values\n",
      "ACEHURT1 0.6794% missing values\n",
      "ACESWEAR 0.6797% missing values\n",
      "ACETOUCH 0.6798% missing values\n",
      "ACETTHEM 0.6801% missing values\n",
      "ACEHVSEX 0.6803% missing values\n",
      "RCSGENDR 0.8633% missing values\n",
      "RCSRLTN2 0.8644% missing values\n",
      "CASTHDX2 0.877% missing values\n",
      "CASTHNO2 0.9863% missing values\n",
      "_METSTAT 0.0177% missing values\n",
      "_URBSTAT 0.0177% missing values\n",
      "MSCODE 0.6962% missing values\n",
      "_CHISPNC 0.3118% missing values\n",
      "_CRACE1 0.8597% missing values\n",
      "_CPRACE 0.8597% missing values\n",
      "_CLLCPWT 0.8633% missing values\n",
      "_DUALCOR 0.5579% missing values\n",
      "_MICHD 0.0089% missing values\n",
      "_DRDXAR2 0.0057% missing values\n",
      "_ALTETH3 0.6371% missing values\n",
      "_PRACE1 0.0% missing values\n",
      "_MRACE1 0.0% missing values\n",
      "HTIN4 0.0592% missing values\n",
      "HTM4 0.0541% missing values\n",
      "WTKG3 0.0869% missing values\n",
      "_BMI5 0.1029% missing values\n",
      "_BMI5CAT 0.1029% missing values\n",
      "_FLSHOT7 0.6371% missing values\n",
      "_PNEUMO3 0.6371% missing values\n",
      "_RFMAM22 0.5871% missing values\n",
      "_MAM5023 0.7629% missing values\n",
      "_RFPAP35 0.7577% missing values\n",
      "_RFPSA23 0.685% missing values\n",
      "_CLNSCPY 0.5574% missing values\n",
      "_SGMSCPY 0.5734% missing values\n",
      "_SGMS10Y 0.5734% missing values\n",
      "_RFBLDS4 0.5625% missing values\n",
      "_STOLDNA 0.5613% missing values\n",
      "_VIRCOLN 0.5664% missing values\n",
      "_SBONTIM 0.5168% missing values\n",
      "_CRCREC1 0.5629% missing values\n",
      "_AIDTST4 0.0847% missing values\n"
     ]
    }
   ]
  },
  {
   "cell_type": "code",
   "source": [
    "df.loc[df[\"CHCSCNCR\"] == \"1\", \"CHCSCNCR\"] = 'Yes'    # col 120 - skin cancer\n",
    "df.loc[df[\"CHCSCNCR\"] == \"2\", \"CHCSCNCR\"] = 'No'\n",
    "df.loc[df[\"CHCSCNCR\"] == \"7\", \"CHCSCNCR\"] = 'Dont know'\n",
    "df.loc[df[\"CHCSCNCR\"] == \"9\", \"CHCSCNCR\"] = 'Refused'"
   ],
   "metadata": {
    "id": "s2ujXlOcuMIW",
    "pycharm": {
     "name": "#%% # Encodings for the responses\n"
    }
   },
   "execution_count": null,
   "outputs": []
  },
  {
   "cell_type": "code",
   "source": [
    "#Adding the corresponding states to their respective state id as per the document\n",
    "df.loc[df[\"_STATE\"] == \"1\", \"_STATE\"] = 'Alabama'\n",
    "df.loc[df[\"_STATE\"] == \"2\", \"_STATE\"] = 'Alaska'\n",
    "df.loc[df[\"_STATE\"] == \"4\", \"_STATE\"] = 'Arizona'\n",
    "df.loc[df[\"_STATE\"] == \"5\", \"_STATE\"] = 'Arkankas'"
   ],
   "metadata": {
    "id": "rIzNTLcuuQEM"
   },
   "execution_count": null,
   "outputs": []
  },
  {
   "cell_type": "code",
   "source": [
    "#Adding codes for gender\n",
    "df.loc[df[\"SEXVAR\"] == \"1\", \"SEXVAR\"] = 'Male'\n",
    "df.loc[df[\"SEXVAR\"] == \"2\", \"SEXVAR\"] = 'Female'"
   ],
   "metadata": {
    "id": "00-uS_KTuRdj"
   },
   "execution_count": null,
   "outputs": []
  },
  {
   "cell_type": "code",
   "source": [
    "#Count of MAle and female subjects in the dataset\n",
    "df_selected = df\n",
    "\n",
    "df_selected['SEXVAR'].value_counts()\n",
    "df_selected = df_selected.rename(columns={\"SEXVAR\":\"Gender\"})\n",
    "sns.countplot(x='Gender', data=df_selected, palette=['r', 'g'])"
   ],
   "metadata": {
    "colab": {
     "base_uri": "https://localhost:8080/",
     "height": 296
    },
    "id": "hJQiJRe8uTDO",
    "executionInfo": {
     "status": "ok",
     "timestamp": 1654442157158,
     "user_tz": 300,
     "elapsed": 282,
     "user": {
      "displayName": "Vaibhav Sancheti",
      "userId": "09844834027415493405"
     }
    },
    "outputId": "524ba8c1-3294-4041-9d42-b0721a58b338"
   },
   "execution_count": null,
   "outputs": [
    {
     "output_type": "execute_result",
     "data": {
      "text/plain": [
       "<matplotlib.axes._subplots.AxesSubplot at 0x7f244dc858d0>"
      ]
     },
     "metadata": {},
     "execution_count": 15
    },
    {
     "output_type": "display_data",
     "data": {
      "text/plain": [
       "<Figure size 432x288 with 1 Axes>"
      ],
      "image/png": "[encoded data removed]"
     },
     "metadata": {
      "needs_background": "light"
     }
    }
   ]
  },
  {
   "cell_type": "code",
   "source": [
    "#General health for male/female in Alabama, Alaska, Arizona and Arkankaz\n",
    "\n",
    "df_selected['GENHLTH'].value_counts()\n",
    "df_selected = df_selected[(df_selected['GENHLTH'] != 7) & (df_selected['GENHLTH'] != 9)]\n",
    "df_selected = df_selected.rename(columns={\"GENHLTH\":\"General Health Status\"})\n",
    "sns.countplot(x='General Health Status', hue='Gender', data=df_selected, palette=['r', 'g'])"
   ],
   "metadata": {
    "colab": {
     "base_uri": "https://localhost:8080/",
     "height": 297
    },
    "id": "mymlI67puUpS",
    "executionInfo": {
     "status": "ok",
     "timestamp": 1654363090045,
     "user_tz": 300,
     "elapsed": 1612,
     "user": {
      "displayName": "Sai Amara",
      "userId": "02742017909969161801"
     }
    },
    "outputId": "beec797d-4a74-4858-b8a6-89df6adf0bae"
   },
   "execution_count": null,
   "outputs": [
    {
     "output_type": "execute_result",
     "data": {
      "text/plain": [
       "<matplotlib.axes._subplots.AxesSubplot at 0x7f1aa2066b50>"
      ]
     },
     "metadata": {},
     "execution_count": 11
    },
    {
     "output_type": "display_data",
     "data": {
      "text/plain": [
       "<Figure size 432x288 with 1 Axes>"
      ],
      "image/png": "[encoded data removed]"
     },
     "metadata": {
      "needs_background": "light"
     }
    }
   ]
  },
  {
   "cell_type": "code",
   "source": [
    "# race wise male/female count in the dataset\n",
    "df_selected['_IMPRACE'].value_counts()\n",
    "df_selected = df_selected.rename(columns={\"_IMPRACE\":\"Race\"})\n",
    "sns.countplot(x='Race', hue='Gender', data=df_selected, palette=['r', 'g'])"
   ],
   "metadata": {
    "colab": {
     "base_uri": "https://localhost:8080/",
     "height": 297
    },
    "id": "6RzXqreVuWUu",
    "executionInfo": {
     "status": "ok",
     "timestamp": 1654363096321,
     "user_tz": 300,
     "elapsed": 1371,
     "user": {
      "displayName": "Sai Amara",
      "userId": "02742017909969161801"
     }
    },
    "outputId": "65f2f8f0-b5dd-44b6-ea64-f741ae74a705"
   },
   "execution_count": null,
   "outputs": [
    {
     "output_type": "execute_result",
     "data": {
      "text/plain": [
       "<matplotlib.axes._subplots.AxesSubplot at 0x7f1aa4f33650>"
      ]
     },
     "metadata": {},
     "execution_count": 12
    },
    {
     "output_type": "display_data",
     "data": {
      "text/plain": [
       "<Figure size 432x288 with 1 Axes>"
      ],
      "image/png": "[encoded data removed]"
     },
     "metadata": {
      "needs_background": "light"
     }
    }
   ]
  },
  {
   "cell_type": "code",
   "source": [
    "#Add codings for the different marital status\n",
    "df_selected.loc[df_selected[\"MARITAL\"] == 1, \"MARITAL\"] = 'Married'    # col 167 - marital status\n",
    "df_selected.loc[df_selected[\"MARITAL\"] == 2, \"MARITAL\"] = 'Divorced'\n",
    "df_selected.loc[df_selected[\"MARITAL\"] == 3, \"MARITAL\"] = 'Widowed'\n",
    "df_selected.loc[df_selected[\"MARITAL\"] == 4, \"MARITAL\"] = 'Seperated'\n",
    "df_selected.loc[df_selected[\"MARITAL\"] == 5, \"MARITAL\"] = 'Never married'\n",
    "df_selected.loc[df_selected[\"MARITAL\"] == 6, \"MARITAL\"] = 'Member of unmarried couple'\n",
    "df_selected.loc[df_selected[\"MARITAL\"] == 9, \"MARITAL\"] = 'Refused'"
   ],
   "metadata": {
    "id": "n4It_beFZ82o"
   },
   "execution_count": null,
   "outputs": []
  },
  {
   "cell_type": "code",
   "source": [
    "#Add coding for health coverage question\n",
    "df_selected.loc[df_selected[\"HLTHPLN1\"] == 1, \"HLTHPLN1\"] = 'Yes'    # col 108 - Do u have health coverage\n",
    "df_selected.loc[df_selected[\"HLTHPLN1\"] == 2, \"HLTHPLN1\"] = 'No'\n",
    "df_selected.loc[df_selected[\"HLTHPLN1\"] == 7, \"HLTHPLN1\"] = 'Dont know'\n",
    "df_selected.loc[df_selected[\"HLTHPLN1\"] == 9, \"HLTHPLN1\"] = 'Refused'\n",
    "\n"
   ],
   "metadata": {
    "id": "RtSCruhZaaqr"
   },
   "execution_count": null,
   "outputs": []
  },
  {
   "cell_type": "code",
   "source": [
    "#Plotting the  people based on marital status, having health coverage\n",
    "\n",
    "brfss_df_yes = df_selected.loc[df[\"HLTHPLN1\"] == 'Yes']\n",
    "brfss_df_no = df_selected.loc[df[\"HLTHPLN1\"] == 'No']\n",
    "\n",
    "a = brfss_df_yes['MARITAL'].value_counts(normalize=True)\n",
    "c = ['pink', 'blue', 'orange', 'green', 'red', 'purple', 'black']\n",
    "b = a.plot(kind='bar', color = c, figsize=(8,6))\n",
    "b.set_ylabel(\"Percent\")\n",
    "b.set_title(\"Status - Having Health Coverage\")\n",
    "colors = {'Married':'pink', 'Never Married':'blue', 'Divorced':'orange','Widowed':'green','Unmarried couple':'red', 'Seperated':'purple','Refused to answer':'black'}         \n",
    "labels = list(colors.keys())"
   ],
   "metadata": {
    "id": "kTw2YKZ4uX6l",
    "colab": {
     "base_uri": "https://localhost:8080/",
     "height": 525
    },
    "executionInfo": {
     "status": "ok",
     "timestamp": 1654442183477,
     "user_tz": 300,
     "elapsed": 591,
     "user": {
      "displayName": "Vaibhav Sancheti",
      "userId": "09844834027415493405"
     }
    },
    "outputId": "0bee4f7b-37fd-4883-eec5-ce3cb992e93f"
   },
   "execution_count": null,
   "outputs": [
    {
     "output_type": "display_data",
     "data": {
      "text/plain": [
       "<Figure size 576x432 with 1 Axes>"
      ],
      "image/png": "[encoded data removed]"
     },
     "metadata": {
      "needs_background": "light"
     }
    }
   ]
  },
  {
   "cell_type": "code",
   "source": [
    "#Plotting the  people based on marital status, not having health coverage\n",
    "\n",
    "a = brfss_df_no['MARITAL'].value_counts(normalize=True)\n",
    "c = ['pink', 'blue', 'orange', 'red', 'green', 'purple', 'black']\n",
    "b = a.plot(kind='bar', color = c, figsize=(8,6))\n",
    "#ax.set_xticklabels(ax.get_xticklabels(), rotation=0)\n",
    "b.set_ylabel(\"Percent\")\n",
    "b.set_title(\"Status - Not having Health Coverage\")\n",
    "colors = {'Married':'pink', 'Never Married':'blue', 'Divorced':'orange','Widowed':'green','Unmarried couple':'red', 'Seperated':'purple','Refused to answer':'black'}         \n",
    "labels = list(colors.keys())\n",
    "#handles = [plt.Rectangle((0,0),1,1, color=colors[label]) for label in labels]\n",
    "#plt.legend(handles, labels)"
   ],
   "metadata": {
    "colab": {
     "base_uri": "https://localhost:8080/",
     "height": 525
    },
    "id": "acTni8uhbPRW",
    "executionInfo": {
     "status": "ok",
     "timestamp": 1654442188631,
     "user_tz": 300,
     "elapsed": 293,
     "user": {
      "displayName": "Vaibhav Sancheti",
      "userId": "09844834027415493405"
     }
    },
    "outputId": "2e68939e-d2cd-4e7d-cfae-ee7aeb39a654"
   },
   "execution_count": null,
   "outputs": [
    {
     "output_type": "display_data",
     "data": {
      "text/plain": [
       "<Figure size 576x432 with 1 Axes>"
      ],
      "image/png": "[encoded data removed]"
     },
     "metadata": {
      "needs_background": "light"
     }
    }
   ]
  },
  {
   "cell_type": "code",
   "source": [
    "#Plotting the  people based on race, having health coverage\n",
    "\n",
    "a = brfss_df_yes['_IMPRACE'].value_counts(normalize=True)\n",
    "c = ['pink', 'blue', 'orange', 'green', 'red', 'purple', 'black']\n",
    "b = a.plot(kind='bar', color = c, figsize=(8,6))\n",
    "b.set_ylabel(\"Percent\")\n",
    "b.set_title(\"Status - Having Health Coverage\")\n",
    "colors = {'White':'pink', 'Hispanic':'blue', 'Black':'orange','Other Race':'green','Asian':'red', 'American Indian/Alaskan Native':'purple'}         \n",
    "labels = list(colors.keys())\n",
    "handles = [plt.Rectangle((0,0),1,1, color=colors[label]) for label in labels]\n",
    "plt.legend(handles, labels)"
   ],
   "metadata": {
    "colab": {
     "base_uri": "https://localhost:8080/",
     "height": 413
    },
    "id": "M928NAbUYPAK",
    "executionInfo": {
     "status": "ok",
     "timestamp": 1654442189718,
     "user_tz": 300,
     "elapsed": 269,
     "user": {
      "displayName": "Vaibhav Sancheti",
      "userId": "09844834027415493405"
     }
    },
    "outputId": "61459c78-8875-4c9c-d44c-326578d085b6"
   },
   "execution_count": null,
   "outputs": [
    {
     "output_type": "execute_result",
     "data": {
      "text/plain": [
       "<matplotlib.legend.Legend at 0x7f244db7bc10>"
      ]
     },
     "metadata": {},
     "execution_count": 20
    },
    {
     "output_type": "display_data",
     "data": {
      "text/plain": [
       "<Figure size 576x432 with 1 Axes>"
      ],
      "image/png": "[encoded data removed]"
     },
     "metadata": {
      "needs_background": "light"
     }
    }
   ]
  },
  {
   "cell_type": "code",
   "source": [
    "#Plotting the  people based on race, not having health coverage\n",
    "\n",
    "a = brfss_df_no['_IMPRACE'].value_counts(normalize=True)\n",
    "c = ['pink', 'blue', 'orange', 'green', 'red', 'purple', 'black']\n",
    "b = a.plot(kind='bar', color = c, figsize=(8,6))\n",
    "b.set_ylabel(\"Percent\")\n",
    "b.set_title(\"Status - Not Having Health Coverage\")\n",
    "colors = {'White':'pink', 'Hispanic':'blue', 'Black':'orange','Other Race':'green','Asian':'red', 'American Indian/Alaskan Native':'purple'}         \n",
    "labels = list(colors.keys())\n",
    "handles = [plt.Rectangle((0,0),1,1, color=colors[label]) for label in labels]\n",
    "plt.legend(handles, labels)"
   ],
   "metadata": {
    "colab": {
     "base_uri": "https://localhost:8080/",
     "height": 413
    },
    "id": "jHxFN9uFbZID",
    "executionInfo": {
     "status": "ok",
     "timestamp": 1654442190899,
     "user_tz": 300,
     "elapsed": 384,
     "user": {
      "displayName": "Vaibhav Sancheti",
      "userId": "09844834027415493405"
     }
    },
    "outputId": "64252916-ec7d-4e66-f394-f91f8f0db0da"
   },
   "execution_count": null,
   "outputs": [
    {
     "output_type": "execute_result",
     "data": {
      "text/plain": [
       "<matplotlib.legend.Legend at 0x7f244dc7bdd0>"
      ]
     },
     "metadata": {},
     "execution_count": 21
    },
    {
     "output_type": "display_data",
     "data": {
      "text/plain": [
       "<Figure size 576x432 with 1 Axes>"
      ],
      "image/png": "[encoded data removed]"
     },
     "metadata": {
      "needs_background": "light"
     }
    }
   ]
  }
 ]
}